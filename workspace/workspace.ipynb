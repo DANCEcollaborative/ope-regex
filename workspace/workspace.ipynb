{
 "cells": [
  {
   "cell_type": "markdown",
   "id": "93239329-7702-40fe-b043-51d6195d6712",
   "metadata": {},
   "source": [
    "Before you turn this problem in, make sure everything runs as expected. First, **restart the kernel** (in the menubar, select Kernel$\\rightarrow$Restart) and then **run all cells** (in the menubar, select Cell$\\rightarrow$Run All).\n",
    "\n",
    "Make sure you fill in any place that says `YOUR CODE HERE` or \"YOUR ANSWER HERE\", as well as your name below."
   ]
  },
  {
   "cell_type": "code",
   "execution_count": null,
   "id": "87a707c9-09eb-4486-9df2-2410424c00d0",
   "metadata": {},
   "outputs": [],
   "source": [
    "NAME = \"\""
   ]
  },
  {
   "cell_type": "markdown",
   "id": "045e5c6c-9af1-4f3f-ba46-417ed22b6bf4",
   "metadata": {},
   "source": [
    "# Assignment 4 (Regular Expressions)\n",
    "### Learning Objectives\n",
    "For this assignment, the main learning objectives would be:\n",
    "1. __Get Comfortable with Regular Expressions:__ Learn how to create and apply regular expression patterns to find, match, split, and replace text in documents.\n",
    "2. __Master Text Processing Techniques:__ Practice using `re.findall()`, `re.sub()`, and `re.split()` to effectively extract, modify, and organize text.\n",
    "3. __Apply Your Skills:__ Use your knowledge in regular expressions to solve real-world problems--in this case, organizing and managing structured data like recipes!"
   ]
  },
  {
   "cell_type": "markdown",
   "id": "39d26dc7-e3db-4274-b262-bc951527ff21",
   "metadata": {},
   "source": [
    "# Cooking Activity\n",
    "### Reduce Cooking Time for Time Efficiency!\n",
    "\n",
    "In this assignment, you will be doing a cooking activity to apply regular expressions. Daphne, a mother of one daughter named Lucy, who is happily married to her husband, Cole--are planning to have a Sunday family cooking session and she wants to be fully prepared for it! Because Daphne is on a time crunch to make the dishes, you will be using regular expressions to effectively extracting, modifying, and organizing in the recipe text!\n",
    "\n",
    "Note: Regular Expressions will also be called \"RE\" or \"Regex\" in this activity. Additionaly, in the definitions below, `regex_pattern` is a variabe refering to the regex pattern that is being implemented and `recipe_text` is a variable refering to text trying to find the pattern.\n",
    "\n",
    "| RE Methods | Meaning |\n",
    "| --- | --- |\n",
    "| `re.finditer()` | Find all substrings where regular expression matches, and returns them as a list. <br> Example: __finditer_method = re.match(regex_pattern, recipe_text)__ </br>|\n",
    "| `re.split()` | Returns a list where the string has been split at each match. <br> Example: `split_method = re.split = (regex_pattern, recipe_text)`</br>|\n",
    "| `re.sub()` | Replaces one or more matches with a string. <br> Example: __sub_method = re.sub(regex_pattern,replacement, recipe_text)__. In this case, replacement is the phrase that will replace the pattern within `recipe_text`. </br> |\n",
    "| `re.findall()` | Matches one or more of the previous expression. <br> Example __findall_method = regex_pattern.findall(recipe_text)\"__ </br>|\n",
    "| `re.IGNORECASE` | Does case-insensitive matches. <br> Example: __regex_pattern = re.compile(r'(hour)+[s]', re.IGNORECASE\")__ </br>|\n",
    "\n",
    "| Python Method | Meaning |\n",
    "| --- | --- |\n",
    "| `strip()` | Remove any spaces at the beginning and end of a string. <br>Example: __strip_method = recipe_text.strip()__  </br> |\n",
    "| `str()` | Converts an object into its string representation. <br> Example: __print(str(item))__ </br> |"
   ]
  },
  {
   "cell_type": "markdown",
   "id": "3a698a32-30b9-471e-b183-b2bc76d360f0",
   "metadata": {},
   "source": [
    "| RE Character | Meaning |\n",
    "| --- | --- |\n",
    "| `*` | Matches zero, one or more of the previous expression. <br> Example: __regex_pattern = re.compile(r'[0-9]*')__--which matches phrase(s) that contains digits from 0 to 9. </br>|\n",
    "| `?` | Matches zero or one of the previous expression. <br> Example: __regex_pattern = re.compile(r'colou?r')__--which matches the string \"color\" or \"colour\" because 'u' is optional. </br> |\n",
    "| `+` | Matches one or more of the previous expression. <br> Example: __regex_pattern = re.compile(r'\\d+')__--which matches with one or more digits. </br> |\n",
    "| `\\` | Used to escape a special character. <br> Example: __regex_pattern = re.compile(r'\\.')__--which matches a literal period dot '.' </br>|\n",
    "| `.` | Matches any character. </br> Example: __regex_pattern = re.compile(r'a.b')__--which matches any string where 'a' is followed by a single character and then 'b'. </br> |\n",
    "| `()` | Creates capture groups to extract adn refer to specific parts of a matched string. <br> Example: __regex_pattern = re.compile(r'(\\d{3}')__--which matches to any phrase with 3 consecutive digits. </br> |\n",
    "| `(?:)` | Non-capturing group that are group parts of a pattern togetehr but do not create a capturing group that you can refer to later. This is useful when you want to apply quantifiers to part of a pattern but don't need to capture the matched text for later. <br> Example: __regex_pattern = re.compile(r'\\d+(?:-\\d+)*')__--which is a non-capturing group that matches a hyphen followed by one or more digits, zero or one more times. </br>  |\n",
    "| `\\|` | Serves as an \"or\"/\"and\" statement that will match the pattern either on the right or left of the bar. <br> Example: `regex_pattern = re.compile(r'apple|orange')`--which matches either \"apple\" or \"orange\". </br>  |\n",
    "| `[]` | Matches a range of characters. <br> Example: __regex_pattern = re.compile(r'[0-9]')__--which matches to any single digit. </br>  |\n",
    "| `{}` | Matches a specific number of occurrences <br> Example: __regex_pattern = re.compile(r'a{3}')__--which matches exactly three consecutive 'a' characters. |\n",
    "| `^` | Matches the start of a string. <br> Example: __regex_pattern = re.compile(r'^Hello')__--which matches 'Hello' only if it appears at the start of the string. |\n",
    "| `$` | Matches the end of a string. <br> Example: __regex_pattern = re.compile(r'world!$')__--which matches 'world!' only if it appears at the end of the string.|\n",
    "| `\\d` | Matches a digit [0-9]. <br> Example: __regex_pattern = re.compile(r'\\d')__--which matches to any single digit. |\n",
    "| `\\D` | Matches a non-digit <br> Example: __regex_pattern = re.compile(r'\\D')__--which matches any character that is not a digit [0-9] |\n",
    "| `\\w` | Matches an alphanumeric character (letters [a-zA-Z]) and digits [0-9, and underscores.]<br> Example: __regex_pattern = re.compile(r'\\w')--which matches all alphanumeric characters and underscores in the text, ignoring spaces and puncutation. |\n",
    "| `\\W` | Matches an non-alphanumeric character <br> Example: __regex_pattern = re.compile(r'\\W')__--which matches to punctuation and spaces in the text.  |\n",
    "| `\\s` | Matches a whitespace character. <br> Example: __regex_pattern = re.compile(r'\\s')--which matches all whitespace characters in the text, including a |\n",
    "| `\\S` | Matches a non-whitespace character <br> Example: __regex_pattern = re.compile(r'\\S')__--which matches all characters in the text that are not whitespace characters (including letters, punctuation, and digits). |\n",
    "\n",
    "\n",
    "\n",
    "\n",
    "Also, for all the regular expressions you define in the assignment, make sure to define them using [raw string notation](https://docs.python.org/3/library/re.html#raw-string-notation). This will make it easier for you to understand and debug your expressions, as discussed in the readings this week.\n",
    "\n",
    "RE Definitions Source Reference: https://www.python-engineer.com/posts/regular-expressions/"
   ]
  },
  {
   "cell_type": "code",
   "execution_count": 1,
   "id": "28cc58d6-7313-4b52-8b5c-27c58c9bd03b",
   "metadata": {},
   "outputs": [],
   "source": [
    "import re\n",
    "# from feedback import *"
   ]
  },
  {
   "cell_type": "code",
   "execution_count": null,
   "id": "7328182f-0d6b-445b-9ea7-a1e5f586f426",
   "metadata": {},
   "outputs": [],
   "source": [
    "recipe_text = r'''\n",
    "Recipe 1: 194_Cabbage_Kielbara_Supper\n",
    "1) In a 5-qt. slow cooker, combine the cabbage, potatoes, onion, salt and pepper.\n",
    "2) Pour broth over all for 2 HOURS.\n",
    "3) Place sausage on top (slow cooker will be full, but cabbage will cook down).\n",
    "4) Cover and cook on low for 4-5 hours or until vegetables are tender and sausage is heated through.\n",
    "Recipe 2: 195_Chocolate_Chip_Cookie_Ice_Cream_Cake\n",
    "1) Crush half the cookies (about 20 cookies) to make crumbs.\n",
    "2) Combine crumbs with melted margarine and press into the bottom of a 9-inch springform pan or pie plate.\n",
    "3) Stand remaining cookies around edge of pan.\n",
    "4) Spread 3/4 cup fudge topping over crust.\n",
    "5) Freeze 1.5 hours.\n",
    "6) Meanwhile, soften 1 quart of ice cream in microwave or on countertop.\n",
    "7) After crust has chilled, spread softened ice cream over fudge layer.\n",
    "8) Freeze 30 minutes.\n",
    "9) Scoop remaining quart of ice cream into balls and arrange over spread ice cream layer.\n",
    "10) Freeze until firm, 3.5-4.5 Hours.\n",
    "11) To serve, garnish with remainder of fudge topping, whipped cream and cherries.'''"
   ]
  }
 ],
 "metadata": {
  "kernelspec": {
   "display_name": "Python 3 (ipykernel)",
   "language": "python",
   "name": "python3"
  },
  "language_info": {
   "codemirror_mode": {
    "name": "ipython",
    "version": 3
   },
   "file_extension": ".py",
   "mimetype": "text/x-python",
   "name": "python",
   "nbconvert_exporter": "python",
   "pygments_lexer": "ipython3",
   "version": "3.11.9"
  }
 },
 "nbformat": 4,
 "nbformat_minor": 5
}
