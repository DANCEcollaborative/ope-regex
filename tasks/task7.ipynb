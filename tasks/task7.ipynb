{
 "cells": [
  {
   "cell_type": "markdown",
   "id": "654158b6-21ee-46e8-9b1b-5ddb52128e30",
   "metadata": {},
   "source": [
    "## Task 7: Shorten the recipe timeframes to save time\n",
    "\n",
    "Now that you have used regular expressions to find and process the recipe text, we will start using regular expressions to modify the recipes. \n",
    "\n",
    "We want to shorten the cooking times, so we want to substitute 'two hours' or '2 Hours' with '1.5 hours'. \n",
    "\n",
    "The first task is to write a regular expression to pick out different ways \"two hours\" (case insensitive) can appear in the recipe. \n",
    "\n",
    "Create a variable called `replace_regex_pattern` and use the `re.compile()` method to store your regex pattern. Ensure sure that the regex pattern is written as a raw string by prefixing it with `r`.\n"
   ]
  },
  {
   "cell_type": "code",
   "execution_count": 5,
   "id": "17f4c112-b46f-4dc4-8c59-0bca649c2f94",
   "metadata": {},
   "outputs": [],
   "source": [
    "replace_regex_pattern = ..."
   ]
  },
  {
   "cell_type": "code",
   "execution_count": 15,
   "id": "eba66916",
   "metadata": {},
   "outputs": [],
   "source": [
    "# Sample test cases; write some more.\n",
    "\n",
    "\n",
    "assert replace_regex_pattern.match(\"2 hours\"), \"Assertion failed: 2.5 hours NOT matched.\"\n",
    "assert not(replace_regex_pattern.match(\"5 hours\")), \"Assertion incorrectly matched 5 hours.\"\n"
   ]
  },
  {
   "cell_type": "code",
   "execution_count": null,
   "id": "ab500c42",
   "metadata": {},
   "outputs": [],
   "source": [
    "# DO NOT MODIFY THIS CODE \n",
    "\n",
    "def task7():\n",
    "    return decimal_hour_pattern"
   ]
  },
  {
   "cell_type": "code",
   "execution_count": null,
   "id": "b816b027",
   "metadata": {},
   "outputs": [],
   "source": [
    "# DO NOT MODIFY THIS CODE \n",
    "\n",
    "import utils\n",
    "utils.grade('task7')"
   ]
  }
 ],
 "metadata": {
  "kernelspec": {
   "display_name": "base",
   "language": "python",
   "name": "python3"
  },
  "language_info": {
   "codemirror_mode": {
    "name": "ipython",
    "version": 3
   },
   "file_extension": ".py",
   "mimetype": "text/x-python",
   "name": "python",
   "nbconvert_exporter": "python",
   "pygments_lexer": "ipython3",
   "version": "3.11.3"
  }
 },
 "nbformat": 4,
 "nbformat_minor": 5
}
