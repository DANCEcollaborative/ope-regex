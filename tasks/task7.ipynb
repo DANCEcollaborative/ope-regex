{
 "cells": [
  {
   "cell_type": "markdown",
   "id": "654158b6-21ee-46e8-9b1b-5ddb52128e30",
   "metadata": {
    "editable": true,
    "slideshow": {
     "slide_type": ""
    },
    "tags": []
   },
   "source": [
    "## Task 7: Shorten the recipe timeframes to save time\n",
    "\n",
    "Now that you have used regular expressions to search and process the recipe text, we will use regular expressions to modify the recipes. \n",
    "\n",
    "We want to shorten the cooking times by substituting every occurrence of \"two hours\" or \"2 Hours\" (case insensitive) with \"**1.5 hours**\". \n",
    "\n",
    "First, create a variable named `replace_regex_pattern` to find variations of \"two hours\" or \"2 Hours\" (case insensitive) in the recipe text. \n",
    "\n",
    "Notes: \n",
    "1. Ensure that the regex pattern is written as a raw string by prefixing it with `r`.\n",
    "2. Use the `re.compile()` method to store your regex pattern."
   ]
  },
  {
   "cell_type": "code",
   "execution_count": null,
   "id": "17f4c112-b46f-4dc4-8c59-0bca649c2f94",
   "metadata": {
    "editable": true,
    "slideshow": {
     "slide_type": ""
    },
    "tags": [
     "task7",
     "task8"
    ]
   },
   "outputs": [],
   "source": [
    "# DEFINE YOUR REGEX HERE\n",
    "\n",
    "replace_regex_pattern = ..."
   ]
  },
  {
   "cell_type": "markdown",
   "id": "362e7d79-82c6-4350-a469-a30f1553f165",
   "metadata": {
    "editable": true,
    "slideshow": {
     "slide_type": ""
    },
    "tags": []
   },
   "source": [
    "### Test your regular expression here\n",
    "\n",
    "Before submitting, test your regular expression in the cell below. Two tests are already defined for you. Create additional tests to thoroughly test your regular expression."
   ]
  },
  {
   "cell_type": "code",
   "execution_count": null,
   "id": "eba66916",
   "metadata": {
    "editable": true,
    "slideshow": {
     "slide_type": ""
    },
    "tags": []
   },
   "outputs": [],
   "source": [
    "# Sample test cases; write some more.\n",
    "assert replace_regex_pattern.match(\"2 hours\"), \"Assertion failed: '2 hours' NOT matched.\"\n",
    "assert not(replace_regex_pattern.match(\"5 hours\")), \"Assertion incorrectly matched '5 hours'.\"\n"
   ]
  },
  {
   "cell_type": "markdown",
   "id": "e2f2daeb-cfed-4461-817d-e73e525e421e",
   "metadata": {
    "editable": true,
    "slideshow": {
     "slide_type": ""
    },
    "tags": []
   },
   "source": [
    "### Submit your code here\n",
    "\n",
    "When you are ready, execute the cells below to submit and test your code. \n",
    "\n",
    "You will receive feedback about your code. You can improve your code and submit as many times as necessary. "
   ]
  },
  {
   "cell_type": "code",
   "execution_count": null,
   "id": "ab500c42",
   "metadata": {
    "editable": true,
    "slideshow": {
     "slide_type": ""
    },
    "tags": [
     "task7"
    ]
   },
   "outputs": [],
   "source": [
    "# DO NOT MODIFY THIS CODE \n",
    "\n",
    "def task7():\n",
    "    return replace_regex_pattern"
   ]
  },
  {
   "cell_type": "code",
   "execution_count": null,
   "id": "b816b027",
   "metadata": {
    "editable": true,
    "slideshow": {
     "slide_type": ""
    },
    "tags": []
   },
   "outputs": [],
   "source": [
    "# DO NOT MODIFY THIS CODE \n",
    "\n",
    "import utils\n",
    "utils.grade('task7')"
   ]
  }
 ],
 "metadata": {
  "kernelspec": {
   "display_name": "Python 3 (ipykernel)",
   "language": "python",
   "name": "python3"
  },
  "language_info": {
   "codemirror_mode": {
    "name": "ipython",
    "version": 3
   },
   "file_extension": ".py",
   "mimetype": "text/x-python",
   "name": "python",
   "nbconvert_exporter": "python",
   "pygments_lexer": "ipython3",
   "version": "3.11.9"
  }
 },
 "nbformat": 4,
 "nbformat_minor": 5
}
