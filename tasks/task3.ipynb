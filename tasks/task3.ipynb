{
 "cells": [
  {
   "cell_type": "markdown",
   "metadata": {},
   "source": [
    "Task 3: Regex Pattern for Decimal Hours\n",
    "For Task 3, you want to create a regex pattern that can match to all decimal hours--whether it is in the form of a single decimal hour (ex: \"1.5 hours\") or a range of integer hours (ex: \"4.5-5.5 hours\").\n",
    "\n",
    "Things to Note:\n",
    "\n",
    "Create a variable called decimal_hour_pattern and use the re.compile() method to store your regex pattern. Ensure sure that the regex pattern is written as a raw string by prefixing it with r.\n",
    "\n",
    "Make this that regular expression is case-insensitive--where the regex pattern matches to non-capitalized or capitalized words such as \"hours\" or \"HOURS\".\n",
    "Create a variable called matches. Within this variable use the correct regex method to match the integer hours.\n",
    "Create a for-loop that goes through every item in matches and prints it out as a string.\n",
    "Based on this, your regex pattern should output EXACTLY to the phrases below (where there should not be any more or any less ouputs):\n",
    "\n",
    "\"4.5-5.5 Hours\"\n",
    "\"1.5 hours\"\n",
    "\n",
    "\n",
    "\n",
    "### merge with below Task 1: **Create** a Regex Pattern for Integer Hours\n",
    "Update `task1a()` to return a regular expression for integer numbers of hours, whether a single integer hour (e.g., \"2 HOURS\") or a range of integer hours (e.g., \"4-5 hours\").\n",
    "\n",
    "Things to Note: \n",
    "1. Ensure that the regex pattern is written as a raw string by prefixing it with `r`.\n",
    "2. Make sure the regular expression is __*case-insensitive*__: The regex pattern should match either captialized or non-capitalized words such as \"HOURS\" or \"hours\".\n",
    "3. Make sure the regular expression pattern __*matches only integer hours*__. For instance, it should not match '5 hours' if is part of a range like \"4.5-5.5 hours\".\n",
    "4. Use the `re.compile()` method to store your regex pattern.\n",
    "\n",
    "Below your `task1()` definition is a notebook cell where your team will test the regular expression before you submit it for grading. "
   ]
  },
  {
   "cell_type": "code",
   "execution_count": null,
   "metadata": {
    "tags": [
     "task3",
     "task4"
    ]
   },
   "outputs": [],
   "source": [
    "import re"
   ]
  },
  {
   "cell_type": "code",
   "execution_count": null,
   "metadata": {
    "tags": [
     "task3"
    ]
   },
   "outputs": [],
   "source": [
    "regex3 = re.compile(r'HOUR')"
   ]
  },
  {
   "cell_type": "code",
   "execution_count": null,
   "metadata": {
    "tags": [
     "task3"
    ]
   },
   "outputs": [],
   "source": [
    "# DO NOT MODIFY THIS CODE \n",
    "\n",
    "def task3():\n",
    "    return regex3\n"
   ]
  },
  {
   "cell_type": "code",
   "execution_count": null,
   "metadata": {},
   "outputs": [],
   "source": [
    "# DO NOT MODIFY THIS CODE \n",
    "\n",
    "import utils\n",
    "utils.grade('task3')"
   ]
  }
 ],
 "metadata": {
  "language_info": {
   "name": "python"
  }
 },
 "nbformat": 4,
 "nbformat_minor": 2
}
