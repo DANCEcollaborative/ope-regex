{
 "cells": [
  {
   "cell_type": "markdown",
   "id": "e2e816b6-ce8f-403f-8a2e-8c85c7595064",
   "metadata": {
    "editable": true,
    "slideshow": {
     "slide_type": ""
    },
    "tags": []
   },
   "source": [
    "## Part 2: Create and Apply a Regex Pattern for Decimal Hours\n",
    "\n",
    "**Create** and **apply** a regex pattern that will match all decimalnumbers of hours within the recipe text."
   ]
  },
  {
   "cell_type": "markdown",
   "id": "bfbabce7-0e24-4a3c-9897-50a806659244",
   "metadata": {
    "editable": true,
    "slideshow": {
     "slide_type": ""
    },
    "tags": []
   },
   "source": [
    "### Task 3: **Create** a Regex Pattern for Decimal Hours\n",
    "Define variable `decimal_hour_pattern` as a regular expression for decimnal numbers of hours, whether a single decimal hour (e.g., \"1.5 hours\") or a range of integer hours (e.g., \"4.5-5.5 hours\").\n",
    "\n",
    "Things to Note: \n",
    "1. Ensure that the regex pattern is written as a raw string by prefixing it with `r`.\n",
    "2. Make sure the regular expression is __*case-insensitive*__: The regex pattern should match either captialized or non-capitalized words such as \"HOURS\" or \"hours\".\n",
    "3. Make sure the regular expression pattern __*matches only decimal hours*__. For instance, it should not match '2 hours'.\n",
    "4. Use the `re.compile()` method to store your regex pattern.\n",
    "\n",
    "Below your `decimal_hour_pattern` definition is a notebook cell where your team will test the regular expression before you submit it for grading. "
   ]
  },
  {
   "cell_type": "code",
   "execution_count": null,
   "id": "fe6ec667-b381-4c4c-be59-fbafc3d99184",
   "metadata": {
    "editable": true,
    "slideshow": {
     "slide_type": ""
    },
    "tags": [
     "task2",
     "task3"
    ]
   },
   "outputs": [],
   "source": [
    "import re"
   ]
  },
  {
   "cell_type": "code",
   "execution_count": null,
   "id": "5b5da515-1854-4c01-b9c2-de7ad291f9f1",
   "metadata": {
    "editable": true,
    "slideshow": {
     "slide_type": ""
    },
    "tags": [
     "task3",
     "task4"
    ]
   },
   "outputs": [],
   "source": [
    "# YOUR CODE HERE\n",
    "\n",
    "decimal_hour_pattern = ... "
   ]
  },
  {
   "cell_type": "code",
   "execution_count": null,
   "id": "0cf3b761-6b8a-4afd-9f0b-036cfe4fd907",
   "metadata": {
    "editable": true,
    "slideshow": {
     "slide_type": ""
    },
    "tags": []
   },
   "outputs": [],
   "source": [
    "# Sample test cases; write some more.\n",
    "assert decimal_hour_pattern.match(\"2.5 hours\"), \"Assertion failed: 2.5 hours NOT matched.\"\n",
    "assert not(decimal_hour_pattern.match(\"5 hours\")), \"Assertion failed: 5 hours INCORRECTLY matched.\"\n"
   ]
  },
  {
   "cell_type": "markdown",
   "id": "dddb75ad-07f9-49bd-bc19-fe4f565cf35f",
   "metadata": {
    "editable": true,
    "slideshow": {
     "slide_type": ""
    },
    "tags": []
   },
   "source": [
    "# Submit your code here\n",
    "\n",
    "When you are ready, execute the cells below to submit and test your code. \n",
    "\n",
    "You will receive feedback about your code. You can improve your code and submit as many times as necessary."
   ]
  },
  {
   "cell_type": "code",
   "execution_count": null,
   "id": "63d9bffb-c07b-4b99-b8b6-7fec390e7c58",
   "metadata": {
    "editable": true,
    "slideshow": {
     "slide_type": ""
    },
    "tags": [
     "task3"
    ]
   },
   "outputs": [],
   "source": [
    "# DO NOT MODIFY THIS CODE \n",
    "\n",
    "def task3():\n",
    "    return decimal_hour_pattern\n"
   ]
  },
  {
   "cell_type": "code",
   "execution_count": null,
   "id": "e871798b-fac1-4abf-ad80-41a6da25b8bd",
   "metadata": {
    "editable": true,
    "slideshow": {
     "slide_type": ""
    },
    "tags": []
   },
   "outputs": [],
   "source": [
    "# DO NOT MODIFY THIS CODE \n",
    "\n",
    "import utils\n",
    "utils.grade('task3')"
   ]
  }
 ],
 "metadata": {
  "kernelspec": {
   "display_name": "Python 3 (ipykernel)",
   "language": "python",
   "name": "python3"
  },
  "language_info": {
   "codemirror_mode": {
    "name": "ipython",
    "version": 3
   },
   "file_extension": ".py",
   "mimetype": "text/x-python",
   "name": "python",
   "nbconvert_exporter": "python",
   "pygments_lexer": "ipython3",
   "version": "3.11.9"
  }
 },
 "nbformat": 4,
 "nbformat_minor": 5
}
