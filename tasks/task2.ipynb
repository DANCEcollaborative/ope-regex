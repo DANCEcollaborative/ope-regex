{
 "cells": [
  {
   "cell_type": "markdown",
   "id": "8c76da8e-92f4-40f3-8ce9-392568c77e51",
   "metadata": {
    "editable": true,
    "slideshow": {
     "slide_type": ""
    },
    "tags": []
   },
   "source": [
    "### Task 2: **APPLY** a Regex Pattern for Integer Hours\n",
    "\n",
    "# UPDATE THIS MARKDOWN CELL"
   ]
  },
  {
   "cell_type": "markdown",
   "id": "2a9a1820-92dd-452d-8a30-7e72d452b6e4",
   "metadata": {
    "editable": true,
    "slideshow": {
     "slide_type": ""
    },
    "tags": []
   },
   "source": [
    "#### Define a variable for the regular expression you created in task1(). "
   ]
  },
  {
   "cell_type": "code",
   "execution_count": null,
   "id": "fe6ec667-b381-4c4c-be59-fbafc3d99184",
   "metadata": {
    "editable": true,
    "slideshow": {
     "slide_type": ""
    },
    "tags": [
     "task2"
    ]
   },
   "outputs": [],
   "source": [
    "import re"
   ]
  },
  {
   "cell_type": "code",
   "execution_count": null,
   "id": "5b5da515-1854-4c01-b9c2-de7ad291f9f1",
   "metadata": {
    "editable": true,
    "slideshow": {
     "slide_type": ""
    },
    "tags": [
     "task2"
    ]
   },
   "outputs": [],
   "source": [
    "# UPDATE task2() TO RETURN THE MATCHES IN RECIPE_TEXT FOR YOUR REGULAR EXPRESSION IN task1()\n",
    "\n",
    "def task2():\n",
    "    # DO NOT CHANGE THIS CODE\n",
    "    # regex = task1()\n",
    "\n",
    "    # YOUR CODE HERE \n",
    "    raise NotImplementedError\n",
    "\n",
    "\n",
    "    # complete this expression\n",
    "    # return integer_hour_pattern...\n"
   ]
  },
  {
   "cell_type": "code",
   "execution_count": null,
   "id": "6c05ccbb-dc6f-4d79-8033-82588a06f706",
   "metadata": {
    "editable": true,
    "slideshow": {
     "slide_type": ""
    },
    "tags": []
   },
   "outputs": [],
   "source": [
    "assert decimal_hour_pattern.findall(recipe_text) == ['4.5-5.5 Hours'] or [' 4.5-5.5 Hours'], \"Assertion failed for '4.5-5.5 Hours'.\"\n",
    "assert decimal_hour_pattern.findall(recipe_text) == ['1.5 hours'] or [' 1.5 Hours'], \"Assertion failed for '1.5 hours'.\"\n",
    "assert '1 hour' not in matches, \"Assertion failed because 1 Hour (an integer hour) is in matches\"\n",
    "assert '4-5 hours' not in matches, \"Assertion failed because 4-5 Hours (an integer hour range) is in matches\""
   ]
  },
  {
   "cell_type": "markdown",
   "id": "dddb75ad-07f9-49bd-bc19-fe4f565cf35f",
   "metadata": {
    "editable": true,
    "slideshow": {
     "slide_type": ""
    },
    "tags": []
   },
   "source": [
    "# Submit your code here\n",
    "\n",
    "When you are ready, execute the cell below to submit and test your code on a larger set of text than in `recipe_text` above. \n",
    "\n",
    "You will receive feedback about your code. You can improve your code and submit as many times as necessary. "
   ]
  },
  {
   "cell_type": "code",
   "execution_count": null,
   "id": "e871798b-fac1-4abf-ad80-41a6da25b8bd",
   "metadata": {
    "editable": true,
    "slideshow": {
     "slide_type": ""
    },
    "tags": []
   },
   "outputs": [],
   "source": [
    "import utils\n",
    "utils.grade('task2')"
   ]
  }
 ],
 "metadata": {
  "kernelspec": {
   "display_name": "Python 3 (ipykernel)",
   "language": "python",
   "name": "python3"
  },
  "language_info": {
   "codemirror_mode": {
    "name": "ipython",
    "version": 3
   },
   "file_extension": ".py",
   "mimetype": "text/x-python",
   "name": "python",
   "nbconvert_exporter": "python",
   "pygments_lexer": "ipython3",
   "version": "3.11.9"
  }
 },
 "nbformat": 4,
 "nbformat_minor": 5
}
