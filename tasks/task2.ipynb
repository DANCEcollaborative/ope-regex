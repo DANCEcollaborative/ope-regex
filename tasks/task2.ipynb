{
 "cells": [
  {
   "cell_type": "markdown",
   "id": "8c76da8e-92f4-40f3-8ce9-392568c77e51",
   "metadata": {
    "editable": true,
    "slideshow": {
     "slide_type": ""
    },
    "tags": []
   },
   "source": [
    "### Task 2: **APPLY** Your Regex Pattern for Integer Hours\n",
    "\n",
    "Update function `task2()` to **apply** the regular expression you created in Task 1 to find all matches within `recipe_text`. "
   ]
  },
  {
   "cell_type": "code",
   "execution_count": 13,
   "id": "fe6ec667-b381-4c4c-be59-fbafc3d99184",
   "metadata": {
    "editable": true,
    "slideshow": {
     "slide_type": ""
    },
    "tags": [
     "task2"
    ]
   },
   "outputs": [],
   "source": [
    "import re"
   ]
  },
  {
   "cell_type": "markdown",
   "id": "cc706bfd",
   "metadata": {},
   "source": [
    "In your previous solution, you may have defined a solution like that below. \n",
    "\n",
    "\n",
    "Although all the matches displayed by the code below look like they match your regular expression, check back to see how the matches appear in the original data, recipe text. "
   ]
  },
  {
   "cell_type": "code",
   "execution_count": null,
   "id": "13df5765",
   "metadata": {},
   "outputs": [],
   "source": [
    "integer_hour_pattern = re.compile(r'\\s[0-9]+(\\-[0-9]+)?\\shours?', re.IGNORECASE)\n",
    "\n",
    "integer_hour_pattern.findall(recipe_text)"
   ]
  },
  {
   "cell_type": "markdown",
   "id": "1e65adbf",
   "metadata": {},
   "source": [
    "\n",
    "\n",
    "If you have used any parenthesis to group elements in your regular expression, the groups will appear in the output. You can change the parentheses to a group which does not appear in the output (a *non-capturing* group).\n",
    "\n",
    "We can fix this using some of the meta-characters on our worksheet (the Python organization's tutorial is also helpful)(https://docs.python.org/3/howto/regex.html)."
   ]
  },
  {
   "cell_type": "markdown",
   "id": "5067e837",
   "metadata": {},
   "source": [
    "In the loop below, we use integer hour problem with some short strings to see watch it finds: your pattern should find results for the first three elements in the list, but not the last."
   ]
  },
  {
   "cell_type": "code",
   "execution_count": null,
   "id": "b15d3335",
   "metadata": {},
   "outputs": [],
   "source": [
    "for text in [' 1 hour',' 1-2 hours','as many as 5-6 hours a night',' 5 hours']:\n",
    "    print(integer_hour_pattern.findall(text))"
   ]
  },
  {
   "cell_type": "code",
   "execution_count": 26,
   "id": "95b087bd",
   "metadata": {
    "editable": true,
    "slideshow": {
     "slide_type": ""
    },
    "tags": [
     "task2"
    ]
   },
   "outputs": [],
   "source": [
    "# change the code below with your improved regular expression\n",
    "integer_hour_pattern_task2=re.compile(r'')"
   ]
  },
  {
   "cell_type": "code",
   "execution_count": null,
   "id": "912d043e",
   "metadata": {},
   "outputs": [],
   "source": [
    "# you do not need to modify this cell, but you can test that your improvement is working\n",
    "for text in [' 1 hour',' 1-2 hours','as many as 5-6 hours a night',' 5 hours']:\n",
    "    print(integer_hour_pattern_task2.findall(text))"
   ]
  },
  {
   "cell_type": "code",
   "execution_count": 22,
   "id": "5b5da515-1854-4c01-b9c2-de7ad291f9f1",
   "metadata": {
    "editable": true,
    "slideshow": {
     "slide_type": ""
    },
    "tags": [
     "task2"
    ]
   },
   "outputs": [],
   "source": [
    "# You do not need to modify the code, if your pattern is working.\n",
    "def task2():\n",
    "    matches = integer_hour_pattern_task2.findall(recipe_text)\n",
    "    return matches \n",
    "\n",
    "\n"
   ]
  },
  {
   "cell_type": "markdown",
   "id": "dddb75ad-07f9-49bd-bc19-fe4f565cf35f",
   "metadata": {
    "editable": true,
    "slideshow": {
     "slide_type": ""
    },
    "tags": []
   },
   "source": [
    "# Submit your code here\n",
    "\n",
    "When you are ready, execute the cell below to submit and test your code on a larger set of text than in `recipe_text` above. \n",
    "\n",
    "You will receive feedback about your code. You can improve your code and submit as many times as necessary. "
   ]
  },
  {
   "cell_type": "code",
   "execution_count": null,
   "id": "e871798b-fac1-4abf-ad80-41a6da25b8bd",
   "metadata": {
    "editable": true,
    "slideshow": {
     "slide_type": ""
    },
    "tags": []
   },
   "outputs": [],
   "source": [
    "import utils\n",
    "utils.grade('task2')"
   ]
  }
 ],
 "metadata": {
  "kernelspec": {
   "display_name": "Python 3 (ipykernel)",
   "language": "python",
   "name": "python3"
  },
  "language_info": {
   "codemirror_mode": {
    "name": "ipython",
    "version": 3
   },
   "file_extension": ".py",
   "mimetype": "text/x-python",
   "name": "python",
   "nbconvert_exporter": "python",
   "pygments_lexer": "ipython3",
   "version": "3.11.9"
  }
 },
 "nbformat": 4,
 "nbformat_minor": 5
}
