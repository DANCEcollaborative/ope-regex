{
 "cells": [
  {
   "cell_type": "markdown",
   "id": "8c76da8e-92f4-40f3-8ce9-392568c77e51",
   "metadata": {},
   "source": [
    "## Task 2: Regex Pattern for Decimal Hours\n",
    "For Task 2, you want to create a regex pattern that can match to all decimal hours--whether it is in the form of a single decimal hour (ex: \"1.5 hours\") or a range of integer hours (ex: \"4.5-5.5 hours\"). \n",
    "\n",
    "Things to Note: \n",
    "1. Create a variable called `decimal_hour_pattern` and use the `re.compile()` method to store your regex pattern. Ensure sure that the regex pattern is written as a raw string by prefixing it with `r`.\n",
    "    - Make this that regular expression is __*case-insensitive*__--where the regex pattern matches to non-capitalized or capitalized words such as \"hours\" or \"HOURS\".\n",
    "4. Create a variable called `matches`. Within this variable use the correct regex method to match the integer hours.\n",
    "5. Create a for-loop that goes through every `item` in `matches` and prints it out as a string.\n",
    "\n",
    "Based on this, your regex pattern should output EXACTLY to the phrases below (where there should not be any more or any less ouputs):\n",
    "- \"4.5-5.5 Hours\"\n",
    "- \"1.5 hours\""
   ]
  },
  {
   "cell_type": "code",
   "execution_count": null,
   "id": "5b5da515-1854-4c01-b9c2-de7ad291f9f1",
   "metadata": {},
   "outputs": [],
   "source": [
    "# YOUR CODE HERE\n",
    "raise NotImplementedError"
   ]
  },
  {
   "cell_type": "code",
   "execution_count": null,
   "id": "6c05ccbb-dc6f-4d79-8033-82588a06f706",
   "metadata": {},
   "outputs": [],
   "source": [
    "assert decimal_hour_pattern.findall(recipe_text) == ['4.5-5.5 Hours'] or [' 4.5-5.5 Hours'], \"Assertion failed for '4.5-5.5 Hours'.\"\n",
    "assert decimal_hour_pattern.findall(recipe_text) == ['1.5 hours'] or [' 1.5 Hours'], \"Assertion failed for '1.5 hours'.\"\n",
    "assert '1 hour' not in matches, \"Assertion failed because 1 Hour (an integer hour) is in matches\"\n",
    "assert '4-5 hours' not in matches, \"Assertion failed because 4-5 Hours (an integer hour range) is in matches\""
   ]
  }
 ],
 "metadata": {
  "kernelspec": {
   "display_name": "Python 3 (ipykernel)",
   "language": "python",
   "name": "python3"
  },
  "language_info": {
   "codemirror_mode": {
    "name": "ipython",
    "version": 3
   },
   "file_extension": ".py",
   "mimetype": "text/x-python",
   "name": "python",
   "nbconvert_exporter": "python",
   "pygments_lexer": "ipython3",
   "version": "3.11.9"
  }
 },
 "nbformat": 4,
 "nbformat_minor": 5
}
