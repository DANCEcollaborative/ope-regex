{
 "cells": [
  {
   "cell_type": "code",
   "execution_count": null,
   "id": "fdf809cc-d3bf-4429-8c64-16c4a9ca8283",
   "metadata": {
    "editable": true,
    "slideshow": {
     "slide_type": ""
    },
    "tags": [
     "dev"
    ]
   },
   "outputs": [],
   "source": [
    "recipe_text = \\\n",
    "'''Recipe 1: 194_Cabbage_Kielbasa_Supper\n",
    "1) In a 5-qt. slow cooker, combine the cabbage, potatoes, onion, salt and pepper.\n",
    "2) Pour broth over all for 2 HOURS.\n",
    "3) Place sausage on top (slow cooker will be full, but cabbage will cook down).\n",
    "4) Cover and cook on low for 4-5 hours or until vegetables are tender and sausage is heated through.\n",
    "Recipe 2: 195_Chocolate_Chip_Cookie_Ice_Cream_Cake\n",
    "1) Crush half the cookies (about 20 cookies) to make crumbs.\n",
    "2) Combine crumbs with melted margarine and press into the bottom of a 9-inch springform pan or pie plate.\n",
    "3) Stand remaining cookies around edge of pan.\n",
    "4) Spread 3/4 cup fudge topping over crust.\n",
    "5) Freeze 1.5 hours.\n",
    "6) Meanwhile, soften 1 quart of ice cream in microwave or on countertop.\n",
    "7) After crust has chilled, spread softened ice cream over fudge layer.\n",
    "8) Freeze 30 minutes.\n",
    "9) Scoop remaining quart of ice cream into balls and arrange over spread ice cream layer.\n",
    "10) Freeze until firm, 3.5-4.5 Hours.\n",
    "11) To serve, garnish with remainder of fudge topping, whipped cream and cherries.'''"
   ]
  },
  {
   "cell_type": "markdown",
   "id": "8c76da8e-92f4-40f3-8ce9-392568c77e51",
   "metadata": {
    "editable": true,
    "slideshow": {
     "slide_type": ""
    },
    "tags": []
   },
   "source": [
    "### Task 2: **APPLY** a regex pattern to retrieve integer hours\n",
    "\n",
    "Update your regex from Task 1, if necessary, to successfully retrieve text strings that match your regex pattern using method `re.findall()`."
   ]
  },
  {
   "cell_type": "code",
   "execution_count": null,
   "id": "fe6ec667-b381-4c4c-be59-fbafc3d99184",
   "metadata": {
    "editable": true,
    "slideshow": {
     "slide_type": ""
    },
    "tags": [
     "task2"
    ]
   },
   "outputs": [],
   "source": [
    "import re"
   ]
  },
  {
   "cell_type": "markdown",
   "id": "cc706bfd",
   "metadata": {
    "editable": true,
    "slideshow": {
     "slide_type": ""
    },
    "tags": []
   },
   "source": [
    "In your previous solution, you may have defined a solution similar to the regex in the following cell. Execute this cell so we can see how this regex works with `re.findall()`."
   ]
  },
  {
   "cell_type": "code",
   "execution_count": null,
   "id": "13df5765",
   "metadata": {
    "editable": true,
    "slideshow": {
     "slide_type": ""
    },
    "tags": []
   },
   "outputs": [],
   "source": [
    "integer_hour_pattern = re.compile(r'\\s[0-9]+(\\-[0-9]+)?\\shours?', re.IGNORECASE)"
   ]
  },
  {
   "cell_type": "markdown",
   "id": "131a877c-8f16-48de-a733-645751fea8db",
   "metadata": {
    "editable": true,
    "slideshow": {
     "slide_type": ""
    },
    "tags": []
   },
   "source": [
    "Now use this regex pattern with `findall()` to see the text strings it returns."
   ]
  },
  {
   "cell_type": "code",
   "execution_count": null,
   "id": "065fe560-94c6-449e-b816-680cffa28960",
   "metadata": {
    "editable": true,
    "slideshow": {
     "slide_type": ""
    },
    "tags": []
   },
   "outputs": [],
   "source": [
    "integer_hour_pattern.findall(recipe_text)"
   ]
  },
  {
   "cell_type": "markdown",
   "id": "1e65adbf",
   "metadata": {
    "editable": true,
    "slideshow": {
     "slide_type": ""
    },
    "tags": []
   },
   "source": [
    "The text strings in `recipe_text` that we want to retrieve are \" 2 HOURS\" and \" 4-5 hours\". (You can check this by searching through `recipe_text` definition above.) \n",
    "\n",
    "However, \n",
    "* Instead of \" 2 HOURS\", we retrieved an empty string ('').\n",
    "* Instead of \" 4-5 hours, we retrieved '-5'. \n",
    "\n",
    "**Here's why:** The parentheses that we used to specify an optional group within the `integer_hour_pattern` definition above, `(\\-[0-9]+)`, create what is called a ***capturing group***: the parentheses define a *group*, and that group is by default *captured* so that it can be referred to later. But if `re.findall()` finds exactly one group, it returns a list of strings matching that group. So \n",
    "* In the string \" 2 HOURS\", the `(\\-[0-9]+)` group we used to find an optional \"-#\" in the string doesn't match anything, so `re.findall()` returns the empty string, ''.\n",
    "* In the string \" 4-5 hours\", the group does match \"-5\", so that's what `re.findall()` returns. \n",
    "\n",
    "We can fix this by using the regex syntax for a ***non-capturing* group**: `(?: ...)`. \n",
    "\n",
    "The Python `re` package has lots of functionality that you can explore. A brief reference is provided above. For a more extensive list of options with explanations, a good reference is https://docs.python.org/3/howto/regex.html."
   ]
  },
  {
   "cell_type": "markdown",
   "id": "5643e4f3-776e-43e3-9f7c-85976b28624b",
   "metadata": {
    "editable": true,
    "slideshow": {
     "slide_type": ""
    },
    "tags": []
   },
   "source": [
    "In the cell below, define the variable `integer_hour_pattern_task2` so that `findall()` will retrieve the strings we want to match. \n",
    "\n",
    "Remember:\n",
    "1. Ensure that the regex pattern is written as a raw string by prefixing it with `r`.\n",
    "2. Use the `re.compile()` method to store your regex pattern."
   ]
  },
  {
   "cell_type": "code",
   "execution_count": null,
   "id": "95b087bd",
   "metadata": {
    "editable": true,
    "slideshow": {
     "slide_type": ""
    },
    "tags": [
     "task2"
    ]
   },
   "outputs": [],
   "source": [
    "# change the code below with your improved regular expression\n",
    "integer_hour_pattern_task2 = ..."
   ]
  },
  {
   "cell_type": "code",
   "execution_count": null,
   "id": "912d043e",
   "metadata": {
    "editable": true,
    "slideshow": {
     "slide_type": ""
    },
    "tags": []
   },
   "outputs": [],
   "source": [
    "# You can use this cell to test your regex\n",
    "for text in [' 1 hour',' 1-2 hours','as many as 5-6 hours a night',' 5 hours']:\n",
    "    print(integer_hour_pattern_task2.findall(text))"
   ]
  },
  {
   "cell_type": "code",
   "execution_count": null,
   "id": "5b5da515-1854-4c01-b9c2-de7ad291f9f1",
   "metadata": {
    "editable": true,
    "slideshow": {
     "slide_type": ""
    },
    "tags": [
     "task2"
    ]
   },
   "outputs": [],
   "source": [
    "# DO NOT MODIFY THIS CODE \n",
    "\n",
    "def task2():\n",
    "    return integer_hour_pattern_task2.findall(recipe_text)"
   ]
  },
  {
   "cell_type": "markdown",
   "id": "dddb75ad-07f9-49bd-bc19-fe4f565cf35f",
   "metadata": {
    "editable": true,
    "slideshow": {
     "slide_type": ""
    },
    "tags": []
   },
   "source": [
    "# Submit your code here\n",
    "\n",
    "When you are ready, execute the cell below to submit and test your code on a larger set of text than in `recipe_text` above. \n",
    "\n",
    "You will receive feedback about your code. You can improve your code and submit as many times as necessary. "
   ]
  },
  {
   "cell_type": "code",
   "execution_count": null,
   "id": "e871798b-fac1-4abf-ad80-41a6da25b8bd",
   "metadata": {
    "editable": true,
    "slideshow": {
     "slide_type": ""
    },
    "tags": []
   },
   "outputs": [],
   "source": [
    "import utils\n",
    "utils.grade('task2')"
   ]
  }
 ],
 "metadata": {
  "kernelspec": {
   "display_name": "Python 3 (ipykernel)",
   "language": "python",
   "name": "python3"
  },
  "language_info": {
   "codemirror_mode": {
    "name": "ipython",
    "version": 3
   },
   "file_extension": ".py",
   "mimetype": "text/x-python",
   "name": "python",
   "nbconvert_exporter": "python",
   "pygments_lexer": "ipython3",
   "version": "3.11.9"
  }
 },
 "nbformat": 4,
 "nbformat_minor": 5
}
