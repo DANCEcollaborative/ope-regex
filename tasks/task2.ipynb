{
 "cells": [
  {
   "cell_type": "markdown",
   "id": "8c76da8e-92f4-40f3-8ce9-392568c77e51",
   "metadata": {
    "editable": false,
    "slideshow": {
     "slide_type": ""
    },
    "tags": []
   },
   "source": [
    "## Task 2: **Apply** a regex pattern to retrieve integer hours\n",
    "\n",
    "Update your regex from Task 1, if necessary, to successfully retrieve text strings that match your regex pattern using method `re.findall()`."
   ]
  },
  {
   "cell_type": "markdown",
   "id": "cc706bfd",
   "metadata": {
    "editable": false,
    "slideshow": {
     "slide_type": ""
    },
    "tags": []
   },
   "source": [
    "In your previous solution, you may have defined a solution similar to the regex in the following cell. Execute this cell so we can see how this regex works with `re.findall()`."
   ]
  },
  {
   "cell_type": "code",
   "execution_count": null,
   "id": "13df5765",
   "metadata": {
    "editable": false,
    "slideshow": {
     "slide_type": ""
    },
    "tags": []
   },
   "outputs": [],
   "source": [
    "# RUN THIS CELL. IT CANNOT BE MODIFIED.\n",
    "\n",
    "integer_hour_pattern = re.compile(r'\\s[0-9]+(\\-[0-9]+)?\\shours?', re.IGNORECASE)"
   ]
  },
  {
   "cell_type": "markdown",
   "id": "131a877c-8f16-48de-a733-645751fea8db",
   "metadata": {
    "editable": false,
    "slideshow": {
     "slide_type": ""
    },
    "tags": []
   },
   "source": [
    "Now use this regex pattern with `findall()` to see the text strings it returns."
   ]
  },
  {
   "cell_type": "code",
   "execution_count": null,
   "id": "065fe560-94c6-449e-b816-680cffa28960",
   "metadata": {
    "editable": false,
    "slideshow": {
     "slide_type": ""
    },
    "tags": []
   },
   "outputs": [],
   "source": [
    "# RUN THIS CELL. IT CANNOT BE MODIFIED.\n",
    "\n",
    "integer_hour_pattern.findall(recipe_text)"
   ]
  },
  {
   "cell_type": "markdown",
   "id": "1e65adbf",
   "metadata": {
    "editable": false,
    "slideshow": {
     "slide_type": ""
    },
    "tags": []
   },
   "source": [
    "The text strings in `recipe_text` that we want to retrieve are \" 2 HOURS\" and \" 4-5 hours\". (You can check this by searching through `recipe_text` definition above.) \n",
    "\n",
    "However, \n",
    "* Instead of \" 2 HOURS\", we retrieved an empty string ('').\n",
    "* Instead of \" 4-5 hours, we retrieved '-5'. \n",
    "\n",
    "**Here's why:** The parentheses that we used to specify an optional group within the `integer_hour_pattern` definition above, `(\\-[0-9]+)`, create what is called a ***capturing group***: the parentheses define a *group*, and that group is by default *captured* so that it can be referred to later. But if a regex pattern has exactly one group, `re.findall()` returns *only* a list of strings matching that group. So \n",
    "* In the string \" 2 HOURS\", the `(\\-[0-9]+)` *capturing* group we used to find an optional \"-#\" in the string doesn't match anything, so `re.findall()` returns the empty string, ''.\n",
    "* In the string \" 4-5 hours\", the `(\\-[0-9]+)` *capturing* group does match \"-5\", so that's what `re.findall()` returns. \n",
    "\n",
    "We can fix this by using the regex syntax for a ***non-capturing* group**. You can refer to the reference above (or any other authoritative source) to find the syntax to use. \n",
    "\n",
    "The Python `re` package has lots of functionality that you can explore. In addition to the brief reference above, a good reference with an extensive list of options with explanations is https://docs.python.org/3/howto/regex.html."
   ]
  },
  {
   "cell_type": "markdown",
   "id": "5643e4f3-776e-43e3-9f7c-85976b28624b",
   "metadata": {
    "editable": false,
    "slideshow": {
     "slide_type": ""
    },
    "tags": []
   },
   "source": [
    "In the cell below, define the variable `integer_hour_pattern_task2` so that `findall()` will retrieve the strings we want to match. \n",
    "\n",
    "Remember:\n",
    "1. Ensure that the regex pattern is written as a raw string by prefixing it with `r`.\n",
    "2. Use the `re.compile()` function to store your regex pattern."
   ]
  },
  {
   "cell_type": "code",
   "execution_count": null,
   "id": "95b087bd",
   "metadata": {
    "editable": true,
    "slideshow": {
     "slide_type": ""
    },
    "tags": [
     "task2"
    ]
   },
   "outputs": [],
   "source": [
    "# DEFINE YOUR REGEX HERE\n",
    "\n",
    "integer_hour_pattern_task2 = ..."
   ]
  },
  {
   "cell_type": "markdown",
   "id": "50b51542-5653-4bd1-a872-8883014b26d5",
   "metadata": {
    "editable": false,
    "slideshow": {
     "slide_type": ""
    },
    "tags": []
   },
   "source": [
    "### Test your regular expression here\n",
    "\n",
    "Before submitting, test your regular expression in the cell below."
   ]
  },
  {
   "cell_type": "code",
   "execution_count": null,
   "id": "912d043e",
   "metadata": {
    "editable": false,
    "slideshow": {
     "slide_type": ""
    },
    "tags": []
   },
   "outputs": [],
   "source": [
    "# RUN THIS CELL. IT CANNOT BE MODIFIED.\n",
    "\n",
    "for text in [' 1 hour',' 1-2 hours','as many as 5-6 hours a night',' 5 hours']:\n",
    "    print(integer_hour_pattern_task2.findall(text))"
   ]
  },
  {
   "cell_type": "markdown",
   "id": "dddb75ad-07f9-49bd-bc19-fe4f565cf35f",
   "metadata": {
    "editable": false,
    "slideshow": {
     "slide_type": ""
    },
    "tags": []
   },
   "source": [
    "### Submit your code here\n",
    "\n",
    "When you are ready, execute the cell below to submit and test your code on a larger set of text than in `recipe_text` above. \n",
    "\n",
    "You will receive feedback about your code. You can improve your code and submit as many times as necessary. "
   ]
  },
  {
   "cell_type": "code",
   "execution_count": null,
   "id": "5b5da515-1854-4c01-b9c2-de7ad291f9f1",
   "metadata": {
    "editable": false,
    "slideshow": {
     "slide_type": ""
    },
    "tags": [
     "task2"
    ]
   },
   "outputs": [],
   "source": [
    "# RUN THIS CELL. IT CANNOT BE MODIFIED.\n",
    "\n",
    "def task2():\n",
    "    return integer_hour_pattern_task2.findall(recipe_text)"
   ]
  },
  {
   "cell_type": "code",
   "execution_count": null,
   "id": "e871798b-fac1-4abf-ad80-41a6da25b8bd",
   "metadata": {
    "editable": false,
    "slideshow": {
     "slide_type": ""
    },
    "tags": []
   },
   "outputs": [],
   "source": [
    "# RUN THIS CELL. IT CANNOT BE MODIFIED.\n",
    "\n",
    "import utils\n",
    "utils.grade('task2')"
   ]
  }
 ],
 "metadata": {
  "kernelspec": {
   "display_name": "Python 3 (ipykernel)",
   "language": "python",
   "name": "python3"
  },
  "language_info": {
   "codemirror_mode": {
    "name": "ipython",
    "version": 3
   },
   "file_extension": ".py",
   "mimetype": "text/x-python",
   "name": "python",
   "nbconvert_exporter": "python",
   "pygments_lexer": "ipython3",
   "version": "3.11.9"
  }
 },
 "nbformat": 4,
 "nbformat_minor": 5
}
