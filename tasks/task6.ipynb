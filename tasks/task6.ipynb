{
 "cells": [
  {
   "cell_type": "code",
   "execution_count": null,
   "id": "0a8db451",
   "metadata": {
    "editable": true,
    "slideshow": {
     "slide_type": ""
    },
    "tags": [
     "dev"
    ]
   },
   "outputs": [],
   "source": [
    "# THIS CELL WILL BE DELETED WHEN DEVELOPMENT IS COMPLETE\n",
    "\n",
    "import re\n",
    "\n",
    "#recipe_pattern = re.compile(r'(?=Recipe \\d+:)')\n",
    "#recipe_pattern = re.compile(r'(.+Recipe \\d+:)')\n",
    "#recipe_pattern = re.compile(r'Recipe \\d:')\n",
    "#recipe_pattern = re.compile(r'(?=Recipe)')\n",
    "\n",
    "recipe_pattern = re.compile(r'Recipe \\d+:')\n",
    "\n",
    "recipe_text = \\\n",
    "'''Recipe 1: 194_Cabbage_Kielbasa_Supper\n",
    "1) In a 5-qt. slow cooker, combine the cabbage, potatoes, onion, salt and pepper.\n",
    "2) Pour broth over all for 2 HOURS.\n",
    "3) Place sausage on top (slow cooker will be full, but cabbage will cook down).\n",
    "4) Cover and cook on low for 4-5 hours or until vegetables are tender and sausage is heated through.\n",
    "Recipe 2: 195_Chocolate_Chip_Cookie_Ice_Cream_Cake\n",
    "1) Crush half the cookies (about 20 cookies) to make crumbs.\n",
    "2) Combine crumbs with melted margarine and press into the bottom of a 9-inch springform pan or pie plate.\n",
    "3) Stand remaining cookies around edge of pan.\n",
    "4) Spread 3/4 cup fudge topping over crust.\n",
    "5) Freeze 1.5 hours.\n",
    "6) Meanwhile, soften 1 quart of ice cream in microwave or on countertop.\n",
    "7) After crust has chilled, spread softened ice cream over fudge layer.\n",
    "8) Freeze 30 minutes.\n",
    "9) Scoop remaining quart of ice cream into balls and arrange over spread ice cream layer.\n",
    "10) Freeze until firm, 3.5-4.5 Hours.\n",
    "11) To serve, garnish with remainder of fudge topping, whipped cream and cherries.'''"
   ]
  },
  {
   "cell_type": "markdown",
   "id": "d01a998c-fe2e-4f67-90d1-278153ce8484",
   "metadata": {
    "editable": true,
    "slideshow": {
     "slide_type": ""
    },
    "tags": []
   },
   "source": [
    "## Task 6: Make the recipe text easier to read\n",
    "\n",
    "Our goal is to use regex method(s) to divide `recipe_text` into strings for each individual recipe, then print out the recipes with vertical space between them. In Task 5, we created a regular expression, `recipe_pattern`, to match the start of recipes by searching for strings of the form \"**Recipe #:**\". In this task, you will explore the interaction between how a regular expression is defined and exactly how it behaves when used to split text. \n",
    "\n",
    "In the cell below, we use a regular expression method, `split()`, to split `recipe_text` into different recipes based upon the \"**Recipe #:**\" pattern that `recipe_pattern` finds. Then we print out the result, `spaced_recipe_text`, to see how we did.\n",
    "\n",
    "Run the cell below to see the result. "
   ]
  },
  {
   "cell_type": "code",
   "execution_count": null,
   "id": "25cb1337",
   "metadata": {
    "editable": true,
    "slideshow": {
     "slide_type": ""
    },
    "tags": []
   },
   "outputs": [],
   "source": [
    "import re\n",
    "\n",
    "spaced_recipe_text = recipe_pattern.split(recipe_text)\n",
    "\n",
    "# Print each recipe, adding blank line between them\n",
    "for recipe in spaced_recipe_text:\n",
    "    if recipe:\n",
    "        print(\"--------------- start recipe ----------------------------------\")\n",
    "        print(recipe.strip())\n",
    "        print('............... end recipe ....................................\\n')"
   ]
  },
  {
   "cell_type": "markdown",
   "id": "4bfe93f1",
   "metadata": {
    "editable": true,
    "slideshow": {
     "slide_type": ""
    },
    "tags": []
   },
   "source": [
    "How does the output look to you? Notice that the text you searched for, \"**Recipe #:**\", doesn't appear in the output anymore! The problem is that when we split, we lose the original pattern that we matched: `split()` uses the pattern as the location for splitting and doesn't include the pattern itself. \n",
    "\n",
    "If instead we can split at the location *just before* the pattern, the split will include the pattern. We can search for the location just before a pattern with the syntax **`(?=<pattern>)`**. This syntax means to **look ahead** to find the locations where `<pattern>` comes next. When we use `split()` with this syntax, the split is at the locations just before `<pattern>` so that the pattern is included in the result of the split. \n",
    "\n",
    "The Python `re` module includes a large number of capabilities for look ahead, look behind, grouping, etc. This [reference]() provides detailed explanations. "
   ]
  },
  {
   "cell_type": "markdown",
   "id": "cabcb34b-9902-4e14-a5a8-d9eec5515070",
   "metadata": {
    "editable": true,
    "slideshow": {
     "slide_type": ""
    },
    "tags": []
   },
   "source": [
    "### Create a pattern with lookahead\n",
    "\n",
    "In the next cell, see if you can use the lookahead syntax above to create a modified version of `recipe_pattern` named `recipe_pattern_lookahead` to include \"**Recipe #:**\" in the split. \n",
    "\n",
    "Below your `recipe_pattern_lookahead` definition is another notebook cell where your team will test your regular expression before you submit it for grading."
   ]
  },
  {
   "cell_type": "code",
   "execution_count": null,
   "id": "9793ed79-c41d-4694-b374-fc38c305290d",
   "metadata": {
    "editable": true,
    "slideshow": {
     "slide_type": ""
    },
    "tags": [
     "dev",
     "task6"
    ]
   },
   "outputs": [],
   "source": [
    "import re"
   ]
  },
  {
   "cell_type": "code",
   "execution_count": null,
   "id": "1b11ee27-e687-496b-a5d2-f92b63fb70ca",
   "metadata": {
    "editable": true,
    "slideshow": {
     "slide_type": ""
    },
    "tags": [
     "task6"
    ]
   },
   "outputs": [],
   "source": [
    "# YOUR CODE HERE\n",
    "\n",
    "recipe_pattern_lookahead = ..."
   ]
  },
  {
   "cell_type": "markdown",
   "id": "788d2e57-fc11-48e5-90db-da9c42d37f9c",
   "metadata": {
    "editable": true,
    "slideshow": {
     "slide_type": ""
    },
    "tags": []
   },
   "source": [
    "### Test your regular expression here\n",
    "\n",
    "Before submitting, test your regular expression in the cell below."
   ]
  },
  {
   "cell_type": "code",
   "execution_count": null,
   "id": "3b36647c-aa44-4bf0-8389-a240decf22d3",
   "metadata": {
    "editable": true,
    "slideshow": {
     "slide_type": ""
    },
    "tags": []
   },
   "outputs": [],
   "source": [
    "spaced_recipe_text_lookahead = recipe_pattern_lookahead.split(recipe_text)\n",
    "\n",
    "# Print each recipe, adding blank line between them\n",
    "for recipe in spaced_recipe_text_lookahead:\n",
    "    if recipe:\n",
    "        print(\"--------------- start recipe ----------------------------------\")\n",
    "        print(recipe.strip())\n",
    "        print('............... end recipe ....................................\\n')"
   ]
  },
  {
   "cell_type": "markdown",
   "id": "e411e1f1-1a66-4ad9-97bf-ca1c33576570",
   "metadata": {
    "editable": true,
    "slideshow": {
     "slide_type": ""
    },
    "tags": []
   },
   "source": [
    "### Submit your code here\n",
    "\n",
    "When you are ready, execute the cells below to submit and test your code. \n",
    "\n",
    "You will receive feedback about your code. You can improve your code and submit as many times as necessary. "
   ]
  },
  {
   "cell_type": "code",
   "execution_count": null,
   "id": "3da98fe7-3bfd-43c6-bcd7-4581e1436afe",
   "metadata": {
    "editable": true,
    "slideshow": {
     "slide_type": ""
    },
    "tags": []
   },
   "outputs": [],
   "source": [
    "# DO NOT MODIFY THIS CODE \n",
    "\n",
    "def task6():\n",
    "    return recipe_pattern_lookahead"
   ]
  },
  {
   "cell_type": "code",
   "execution_count": null,
   "id": "53fb734d-fb60-473a-a06d-0f3c48d11df1",
   "metadata": {
    "editable": true,
    "slideshow": {
     "slide_type": ""
    },
    "tags": []
   },
   "outputs": [],
   "source": [
    "# DO NOT MODIFY THIS CODE \n",
    "\n",
    "import utils\n",
    "utils.grade('task6')"
   ]
  }
 ],
 "metadata": {
  "kernelspec": {
   "display_name": "Python 3 (ipykernel)",
   "language": "python",
   "name": "python3"
  },
  "language_info": {
   "codemirror_mode": {
    "name": "ipython",
    "version": 3
   },
   "file_extension": ".py",
   "mimetype": "text/x-python",
   "name": "python",
   "nbconvert_exporter": "python",
   "pygments_lexer": "ipython3",
   "version": "3.11.9"
  }
 },
 "nbformat": 4,
 "nbformat_minor": 5
}
