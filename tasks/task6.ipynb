{
 "cells": [
  {
   "cell_type": "markdown",
   "id": "d01a998c-fe2e-4f67-90d1-278153ce8484",
   "metadata": {
    "slideshow": {
     "slide_type": ""
    },
    "tags": []
   },
   "source": [
    "# Task 6: Make the recipe text easier to read\n",
    "\n",
    "Our goal is to use regex method(s) to divide the `recipe_text` into strings for each individual recipe. Observe that the recipes in `recipe_text` begin with the word 'Recipe' followed by a number. Write a regular expression that will match for any number (i.e. Recipe 101) - your solution will be tested with more examples than just the two examples in Recipe Text!\n",
    "\n",
    "In task 5, we already created a regular expression to match the start of recipes, `spaced_regex_pattern`. Now, we will use the regular expression to split the recipe text. In this task, you will explore the interaction between how a regular expression is defined, and exactly how it behaves when used to split text. You should not need to join any strings or lists to complete this activity, and if you are doing so, you are likely on the wrong track: you should be able to do everything you need by only changing the regular expression - no one in your group should be typing that much!"
   ]
  },
  {
   "cell_type": "code",
   "execution_count": null,
   "id": "0a8db451",
   "metadata": {},
   "outputs": [],
   "source": [
    "\n",
    "#spaced_regex_pattern = re.compile(r'(?=Recipe \\d+:)')\n",
    "#spaced_regex_pattern = re.compile(r'(.+Recipe \\d+:)')\n",
    "#spaced_regex_pattern = re.compile(r'Recipe \\d:')\n",
    "#spaced_regex_pattern = re.compile(r'(?=Recipe)')"
   ]
  },
  {
   "cell_type": "markdown",
   "id": "bda30f4d",
   "metadata": {},
   "source": [
    "We created a variable called `spaced_recipe_text`, and used a regex method to split `recipe_text`. Notice that the regular expression is an argument to this function, so you can just modify the regular expression to change how it splits the text. Next, we will print `spaced_recipe_text` to see if the necessary changes were made!\n",
    "\n"
   ]
  },
  {
   "cell_type": "code",
   "execution_count": null,
   "id": "25cb1337",
   "metadata": {},
   "outputs": [],
   "source": [
    "spaced_recipe_text = spaced_regex_pattern.split(recipe_text)\n",
    "# Print each recipe + add a blank space between the line\n",
    "for recipe in spaced_recipe_text:\n",
    "    print(\"---------------start recipe ----------------------------------\")\n",
    "    print(recipe.strip())\n",
    "    print('...............end ..........................................')"
   ]
  },
  {
   "cell_type": "markdown",
   "id": "4bfe93f1",
   "metadata": {},
   "source": [
    "How does the output look to you? Notice that the word Recipe doesn't appear in the output anymore! The problem is that when we split, we lose the original pattern that we matched.\n",
    "\n",
    "As a simpler example, consider splitting a line of comma separated values. We want an input like `'1,2,3'` to be split into `['1','2','3']`. Notice that the commas do not appear anywhere in the output after splitting. "
   ]
  },
  {
   "cell_type": "code",
   "execution_count": null,
   "id": "8cf733a5",
   "metadata": {},
   "outputs": [],
   "source": [
    "re.split(',','1,2,3')"
   ]
  },
  {
   "cell_type": "markdown",
   "id": "8335e661",
   "metadata": {},
   "source": [
    "When we split the text where we find a regular expression, we were removing it from the output, as we did with the commas when parsing a csv file. We want the word 'Recipe' to appear in the output, so we need different behavior from split: we can do this by modifying the regular expression.\n",
    "\n",
    "Consider changing the regular expression to group, using parenthesis. "
   ]
  },
  {
   "cell_type": "code",
   "execution_count": null,
   "id": "7bd681a8",
   "metadata": {},
   "outputs": [],
   "source": [
    "re.split('(,)','1,2,3')"
   ]
  },
  {
   "cell_type": "markdown",
   "id": "9101597c",
   "metadata": {},
   "source": [
    "Now we have the commas, but they are in separate strings. Before we try to split-and-join to get the result we want, ask yourselves: can we just change the regular expression? If we add a `?` to the expression, we turn it into a non-capturing group, and see that now the commas are not part of the output. Next, we can use `<` and `=` to modify the regular expression into a lookahead or lookbehind expression - pay attention to how these group the commas. Now, which of these modifications would work for the recipe text?"
   ]
  },
  {
   "cell_type": "code",
   "execution_count": null,
   "id": "c723f94e",
   "metadata": {},
   "outputs": [],
   "source": [
    "re.split('(?:,)','1,2,3')"
   ]
  },
  {
   "cell_type": "code",
   "execution_count": null,
   "id": "fa53af23",
   "metadata": {},
   "outputs": [],
   "source": [
    "re.split('(?<=,)','1,2,3')"
   ]
  },
  {
   "cell_type": "markdown",
   "id": "e1de8e7d",
   "metadata": {},
   "source": [
    "Now, define task6 pattern which will by used by the function `task6` to split the recipe text. Your pattern will be similar to task5's solution, but modified so splitting works correctly. "
   ]
  },
  {
   "cell_type": "code",
   "execution_count": null,
   "id": "2362a33e",
   "metadata": {},
   "outputs": [],
   "source": [
    "task6_pattern=re.compile(r'(?=Recipe \\d+:)')\n"
   ]
  },
  {
   "cell_type": "code",
   "execution_count": null,
   "id": "f1eb5ad4",
   "metadata": {},
   "outputs": [],
   "source": [
    "# YOU DO NOT NEED TO MODIFY THIS FUNCTION\n",
    "def task6(recipe_text,regex_to_use=task6_pattern):\n",
    "\n",
    "    srt = re.split(regex_to_use, recipe_text.strip())\n",
    "    return [s for s in srt if s]\n"
   ]
  },
  {
   "cell_type": "markdown",
   "id": "24be6102",
   "metadata": {},
   "source": [
    "Now, we will test your new regular expression to see if it behaves properly:"
   ]
  },
  {
   "cell_type": "code",
   "execution_count": null,
   "id": "64978dd3",
   "metadata": {},
   "outputs": [],
   "source": [
    "spaced_recipe_text = task6(recipe_text)\n",
    "# Print each recipe + add a blank space between the line\n",
    "for recipe in spaced_recipe_text:\n",
    "    \n",
    "    print('......')\n",
    "    print(recipe.strip())\n",
    "    print()"
   ]
  },
  {
   "cell_type": "markdown",
   "id": "efdfdf95",
   "metadata": {},
   "source": [
    "Now, submit your solution for task6. Keep in mind the graders will test with other *similar* files of recipes, but not necessarily on the same examples that appear in this exercise: your solution should work for any length of file, with more than two recipes in it. "
   ]
  },
  {
   "cell_type": "code",
   "execution_count": null,
   "id": "1ab42597",
   "metadata": {},
   "outputs": [],
   "source": [
    "is_correct,prompt_string = test_split_function(task6)\n",
    "print(is_correct)\n",
    "print(prompt_string)\n",
    "llm_feedback = return_feedback_split(task6,'StudentName')\n",
    "print(llm_feedback)"
   ]
  },
  {
   "cell_type": "code",
   "execution_count": null,
   "id": "864744a4",
   "metadata": {},
   "outputs": [],
   "source": [
    "spaced_recipe_text"
   ]
  }
 ],
 "metadata": {
  "kernelspec": {
   "display_name": "Python 3 (ipykernel)",
   "language": "python",
   "name": "python3"
  },
  "language_info": {
   "codemirror_mode": {
    "name": "ipython",
    "version": 3
   },
   "file_extension": ".py",
   "mimetype": "text/x-python",
   "name": "python",
   "nbconvert_exporter": "python",
   "pygments_lexer": "ipython3",
   "version": "3.11.3"
  }
 },
 "nbformat": 4,
 "nbformat_minor": 5
}
