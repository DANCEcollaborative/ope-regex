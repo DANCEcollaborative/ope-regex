{
 "cells": [
  {
   "cell_type": "markdown",
   "id": "d01a998c-fe2e-4f67-90d1-278153ce8484",
   "metadata": {
    "editable": true,
    "slideshow": {
     "slide_type": ""
    },
    "tags": []
   },
   "source": [
    "## Task 6: Make the recipe text easier to read\n",
    "\n",
    "Our goal is to use regex method(s) to divide `recipe_text` into strings for each individual recipe, then print out the recipes with vertical space between them. In Task 5, we created a regular expression to match the start of recipes by searching for strings of the form \"**Recipe #:**\". In this task, you will explore the interaction between how a regular expression is defined and exactly how it behaves when used to split text. \n",
    "\n",
    "The most direct solution for Task 5 was to define the recipe_pattern as follows:"
   ]
  },
  {
   "cell_type": "code",
   "execution_count": null,
   "id": "8436c6ce-a0d0-4379-88a4-209244370ccc",
   "metadata": {
    "editable": true,
    "slideshow": {
     "slide_type": ""
    },
    "tags": []
   },
   "outputs": [],
   "source": [
    "import re\n",
    "\n",
    "recipe_pattern_task5 = re.compile(r'Recipe \\d+:')"
   ]
  },
  {
   "cell_type": "markdown",
   "id": "99dc5be9-8fbc-42b3-ac61-484e6260191b",
   "metadata": {
    "editable": true,
    "jp-MarkdownHeadingCollapsed": true,
    "slideshow": {
     "slide_type": ""
    },
    "tags": []
   },
   "source": [
    "Next, we use a regular expression method, `split()`, to split `recipe_text` into different recipes based upon this recipe pattern. Then we print out the result, `spaced_recipe_text`, to see how we did.\n",
    "\n",
    "Run the cell below to see the result. "
   ]
  },
  {
   "cell_type": "code",
   "execution_count": null,
   "id": "25cb1337",
   "metadata": {
    "editable": true,
    "slideshow": {
     "slide_type": ""
    },
    "tags": []
   },
   "outputs": [],
   "source": [
    "spaced_recipe_text = recipe_pattern_task5.split(recipe_text)\n",
    "\n",
    "# Print each recipe, adding blank line between them\n",
    "for recipe in spaced_recipe_text:\n",
    "    if recipe:\n",
    "        print(\"--------------- start recipe ----------------------------------\")\n",
    "        print(recipe.strip())\n",
    "        print('............... end recipe ....................................\\n')"
   ]
  },
  {
   "cell_type": "markdown",
   "id": "4bfe93f1",
   "metadata": {
    "editable": true,
    "slideshow": {
     "slide_type": ""
    },
    "tags": []
   },
   "source": [
    "*How does the output look to you?* \n",
    "\n",
    "Notice that the text you searched for, \"**Recipe #:**\", doesn't appear in the output anymore! The problem is that when we split, we lose the original pattern that we matched: `split()` uses the pattern as the location for splitting and doesn't include the pattern itself. \n",
    "\n",
    "If instead we can split at the location *just before* the pattern, the split will include the pattern. We can search for the location just before a pattern with the syntax **`(?=<pattern>)`**. This syntax means to **look ahead** to find the locations where `<pattern>` comes next. When we use `split()` with this syntax, the split is at the locations just before `<pattern>` so that the pattern is included in the result of the split. \n",
    "\n",
    "The Python `re` module includes a large number of capabilities for look ahead, look behind, grouping, etc. This [reference]() provides detailed explanations. "
   ]
  },
  {
   "cell_type": "markdown",
   "id": "cabcb34b-9902-4e14-a5a8-d9eec5515070",
   "metadata": {
    "editable": true,
    "slideshow": {
     "slide_type": ""
    },
    "tags": []
   },
   "source": [
    "### Create a pattern with lookahead\n",
    "\n",
    "Below, see if you can use the lookahead syntax above to create a modified version of `recipe_pattern` named `recipe_pattern_lookahead` to include \"**Recipe #:**\" in the split. \n",
    "\n",
    "Beneath your `recipe_pattern_lookahead` definition is another notebook cell where your team will test your regular expression before you submit it for grading."
   ]
  },
  {
   "cell_type": "code",
   "execution_count": null,
   "id": "1b11ee27-e687-496b-a5d2-f92b63fb70ca",
   "metadata": {
    "editable": true,
    "slideshow": {
     "slide_type": ""
    },
    "tags": [
     "task6",
     "task8"
    ]
   },
   "outputs": [],
   "source": [
    "# YOUR CODE HERE\n",
    "\n",
    "recipe_pattern_lookahead = ..."
   ]
  },
  {
   "cell_type": "markdown",
   "id": "788d2e57-fc11-48e5-90db-da9c42d37f9c",
   "metadata": {
    "editable": true,
    "slideshow": {
     "slide_type": ""
    },
    "tags": []
   },
   "source": [
    "### Test your regular expression here\n",
    "\n",
    "Before submitting, test your regular expression in the cell below. \n",
    "\n",
    "**Make sure this is correct.** This definition of `spaced_recipe_text` will be used in Task 8. "
   ]
  },
  {
   "cell_type": "code",
   "execution_count": null,
   "id": "3b36647c-aa44-4bf0-8389-a240decf22d3",
   "metadata": {
    "editable": true,
    "slideshow": {
     "slide_type": ""
    },
    "tags": [
     "task8"
    ]
   },
   "outputs": [],
   "source": [
    "spaced_recipe_text = recipe_pattern_lookahead.split(recipe_text)\n",
    "\n",
    "# Print each recipe, adding blank a line between them\n",
    "for recipe in spaced_recipe_text:\n",
    "    if recipe:\n",
    "        print(\"--------------- start recipe ----------------------------------\")\n",
    "        print(recipe.strip())\n",
    "        print('............... end recipe ....................................\\n')"
   ]
  },
  {
   "cell_type": "markdown",
   "id": "e411e1f1-1a66-4ad9-97bf-ca1c33576570",
   "metadata": {
    "editable": true,
    "slideshow": {
     "slide_type": ""
    },
    "tags": []
   },
   "source": [
    "### Submit your code here\n",
    "\n",
    "When you are ready, execute the cells below to submit and test your code. \n",
    "\n",
    "You will receive feedback about your code. You can improve your code and submit as many times as necessary. "
   ]
  },
  {
   "cell_type": "code",
   "execution_count": null,
   "id": "3da98fe7-3bfd-43c6-bcd7-4581e1436afe",
   "metadata": {
    "editable": true,
    "slideshow": {
     "slide_type": ""
    },
    "tags": [
     "task6"
    ]
   },
   "outputs": [],
   "source": [
    "# DO NOT MODIFY THIS CODE \n",
    "\n",
    "def task6():\n",
    "    return recipe_pattern_lookahead"
   ]
  },
  {
   "cell_type": "code",
   "execution_count": null,
   "id": "53fb734d-fb60-473a-a06d-0f3c48d11df1",
   "metadata": {
    "editable": true,
    "slideshow": {
     "slide_type": ""
    },
    "tags": []
   },
   "outputs": [],
   "source": [
    "# DO NOT MODIFY THIS CODE \n",
    "\n",
    "import utils\n",
    "utils.grade('task6')"
   ]
  }
 ],
 "metadata": {
  "kernelspec": {
   "display_name": "Python 3 (ipykernel)",
   "language": "python",
   "name": "python3"
  },
  "language_info": {
   "codemirror_mode": {
    "name": "ipython",
    "version": 3
   },
   "file_extension": ".py",
   "mimetype": "text/x-python",
   "name": "python",
   "nbconvert_exporter": "python",
   "pygments_lexer": "ipython3",
   "version": "3.11.9"
  }
 },
 "nbformat": 4,
 "nbformat_minor": 5
}
