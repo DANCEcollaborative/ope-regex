{
 "cells": [
  {
   "cell_type": "code",
   "execution_count": 34,
   "id": "0a8db451",
   "metadata": {
    "editable": true,
    "slideshow": {
     "slide_type": ""
    },
    "tags": [
     "dev"
    ]
   },
   "outputs": [],
   "source": [
    "# THIS CELL WILL BE DELETED WHEN DEVELOPMENT IS COMPLETE\n",
    "\n",
    "import re\n",
    "\n",
    "#recipe_pattern = re.compile(r'(?=Recipe \\d+:)')\n",
    "#recipe_pattern = re.compile(r'(.+Recipe \\d+:)')\n",
    "#recipe_pattern = re.compile(r'Recipe \\d:')\n",
    "#recipe_pattern = re.compile(r'(?=Recipe)')\n",
    "\n",
    "recipe_pattern = re.compile(r'Recipe \\d+:')\n",
    "\n",
    "recipe_text = \\\n",
    "'''Recipe 1: 194_Cabbage_Kielbasa_Supper\n",
    "1) In a 5-qt. slow cooker, combine the cabbage, potatoes, onion, salt and pepper.\n",
    "2) Pour broth over all for 2 HOURS.\n",
    "3) Place sausage on top (slow cooker will be full, but cabbage will cook down).\n",
    "4) Cover and cook on low for 4-5 hours or until vegetables are tender and sausage is heated through.\n",
    "Recipe 2: 195_Chocolate_Chip_Cookie_Ice_Cream_Cake\n",
    "1) Crush half the cookies (about 20 cookies) to make crumbs.\n",
    "2) Combine crumbs with melted margarine and press into the bottom of a 9-inch springform pan or pie plate.\n",
    "3) Stand remaining cookies around edge of pan.\n",
    "4) Spread 3/4 cup fudge topping over crust.\n",
    "5) Freeze 1.5 hours.\n",
    "6) Meanwhile, soften 1 quart of ice cream in microwave or on countertop.\n",
    "7) After crust has chilled, spread softened ice cream over fudge layer.\n",
    "8) Freeze 30 minutes.\n",
    "9) Scoop remaining quart of ice cream into balls and arrange over spread ice cream layer.\n",
    "10) Freeze until firm, 3.5-4.5 Hours.\n",
    "11) To serve, garnish with remainder of fudge topping, whipped cream and cherries.'''"
   ]
  },
  {
   "cell_type": "markdown",
   "id": "d01a998c-fe2e-4f67-90d1-278153ce8484",
   "metadata": {
    "editable": true,
    "slideshow": {
     "slide_type": ""
    },
    "tags": []
   },
   "source": [
    "## Task 6: Make the recipe text easier to read\n",
    "\n",
    "Our goal is to use regex method(s) to divide `recipe_text` into strings for each individual recipe, then print out the recipes with vertical space between them. In Task 5, we created a regular expression, `recipe_pattern`, to match the start of recipes by searching for strings of the form \"Recipe #:\". In this task, you will explore the interaction between how a regular expression is defined and exactly how it behaves when used to split text. \n",
    "\n",
    "In the cell below, we use a regular expression method, `split()`, to split `recipe_text` into different recipes based upon the \"Recipe #:\" pattern that `recipe_pattern` finds. Then we print out the result, `spaced_recipe_text`, to see how we did!\n",
    "\n",
    "Run the cell below to see the result. "
   ]
  },
  {
   "cell_type": "code",
   "execution_count": 37,
   "id": "25cb1337",
   "metadata": {
    "editable": true,
    "slideshow": {
     "slide_type": ""
    },
    "tags": []
   },
   "outputs": [
    {
     "name": "stdout",
     "output_type": "stream",
     "text": [
      "--------------- start recipe ----------------------------------\n",
      "194_Cabbage_Kielbasa_Supper\n",
      "1) In a 5-qt. slow cooker, combine the cabbage, potatoes, onion, salt and pepper.\n",
      "2) Pour broth over all for 2 HOURS.\n",
      "3) Place sausage on top (slow cooker will be full, but cabbage will cook down).\n",
      "4) Cover and cook on low for 4-5 hours or until vegetables are tender and sausage is heated through.\n",
      "............... end recipe ....................................\n",
      "\n",
      "--------------- start recipe ----------------------------------\n",
      "195_Chocolate_Chip_Cookie_Ice_Cream_Cake\n",
      "1) Crush half the cookies (about 20 cookies) to make crumbs.\n",
      "2) Combine crumbs with melted margarine and press into the bottom of a 9-inch springform pan or pie plate.\n",
      "3) Stand remaining cookies around edge of pan.\n",
      "4) Spread 3/4 cup fudge topping over crust.\n",
      "5) Freeze 1.5 hours.\n",
      "6) Meanwhile, soften 1 quart of ice cream in microwave or on countertop.\n",
      "7) After crust has chilled, spread softened ice cream over fudge layer.\n",
      "8) Freeze 30 minutes.\n",
      "9) Scoop remaining quart of ice cream into balls and arrange over spread ice cream layer.\n",
      "10) Freeze until firm, 3.5-4.5 Hours.\n",
      "11) To serve, garnish with remainder of fudge topping, whipped cream and cherries.\n",
      "............... end recipe ....................................\n",
      "\n"
     ]
    }
   ],
   "source": [
    "spaced_recipe_text = recipe_pattern.split(recipe_text)\n",
    "\n",
    "# Print each recipe, adding blank line between them\n",
    "for recipe in spaced_recipe_text:\n",
    "    if recipe:\n",
    "        print(\"--------------- start recipe ----------------------------------\")\n",
    "        print(recipe.strip())\n",
    "        print('............... end recipe ....................................\\n')"
   ]
  },
  {
   "cell_type": "markdown",
   "id": "4bfe93f1",
   "metadata": {
    "editable": true,
    "slideshow": {
     "slide_type": ""
    },
    "tags": []
   },
   "source": [
    "How does the output look to you? Notice that the word Recipe doesn't appear in the output anymore! The problem is that when we split, we lose the original pattern that we matched.\n",
    "\n",
    "As a simpler example, consider splitting a line of comma separated values. We want an input like `'1,2,3'` to be split into `['1','2','3']`. Notice that the commas do not appear anywhere in the output after splitting. "
   ]
  },
  {
   "cell_type": "code",
   "execution_count": 17,
   "id": "8cf733a5",
   "metadata": {
    "editable": true,
    "slideshow": {
     "slide_type": ""
    },
    "tags": []
   },
   "outputs": [
    {
     "data": {
      "text/plain": [
       "['1', '2', '3']"
      ]
     },
     "execution_count": 17,
     "metadata": {},
     "output_type": "execute_result"
    }
   ],
   "source": [
    "re.split(',','1,2,3')"
   ]
  },
  {
   "cell_type": "markdown",
   "id": "8335e661",
   "metadata": {
    "editable": true,
    "slideshow": {
     "slide_type": ""
    },
    "tags": []
   },
   "source": [
    "When we split the text where we find a regular expression, we were removing it from the output, as we did with the commas when parsing a csv file. We want the word 'Recipe' to appear in the output, so we need different behavior from split: we can do this by modifying the regular expression.\n",
    "\n",
    "Consider changing the regular expression to group, using parenthesis. "
   ]
  },
  {
   "cell_type": "code",
   "execution_count": 18,
   "id": "7bd681a8",
   "metadata": {
    "editable": true,
    "slideshow": {
     "slide_type": ""
    },
    "tags": []
   },
   "outputs": [
    {
     "data": {
      "text/plain": [
       "['1', ',', '2', ',', '3']"
      ]
     },
     "execution_count": 18,
     "metadata": {},
     "output_type": "execute_result"
    }
   ],
   "source": [
    "re.split('(,)','1,2,3')"
   ]
  },
  {
   "cell_type": "markdown",
   "id": "9101597c",
   "metadata": {},
   "source": [
    "Now we have the commas, but they are in separate strings. Before we try to split-and-join to get the result we want, ask yourselves: can we just change the regular expression? If we add a `?` to the expression, we turn it into a non-capturing group, and see that now the commas are not part of the output. Next, we can use `<` and `=` to modify the regular expression into a lookahead or lookbehind expression - pay attention to how these group the commas. Now, which of these modifications would work for the recipe text?"
   ]
  },
  {
   "cell_type": "code",
   "execution_count": 23,
   "id": "c723f94e",
   "metadata": {
    "editable": true,
    "slideshow": {
     "slide_type": ""
    },
    "tags": []
   },
   "outputs": [
    {
     "data": {
      "text/plain": [
       "['', '1,', '2,', '3', '']"
      ]
     },
     "execution_count": 23,
     "metadata": {},
     "output_type": "execute_result"
    }
   ],
   "source": [
    "re.split('(?!,)','1,2,3')"
   ]
  },
  {
   "cell_type": "code",
   "execution_count": 27,
   "id": "57f8a6d0-7c21-4f99-813b-a4a82d5ffbad",
   "metadata": {
    "editable": true,
    "slideshow": {
     "slide_type": ""
    },
    "tags": []
   },
   "outputs": [
    {
     "data": {
      "text/plain": [
       "['1', ',2', ',3']"
      ]
     },
     "execution_count": 27,
     "metadata": {},
     "output_type": "execute_result"
    }
   ],
   "source": [
    "re.split('(?=,)','1,2,3')"
   ]
  },
  {
   "cell_type": "code",
   "execution_count": 20,
   "id": "fa53af23",
   "metadata": {
    "editable": true,
    "slideshow": {
     "slide_type": ""
    },
    "tags": []
   },
   "outputs": [
    {
     "data": {
      "text/plain": [
       "['1,', '2,', '3']"
      ]
     },
     "execution_count": 20,
     "metadata": {},
     "output_type": "execute_result"
    }
   ],
   "source": [
    "re.split('(?<=,)','1,2,3')"
   ]
  },
  {
   "cell_type": "markdown",
   "id": "e1de8e7d",
   "metadata": {},
   "source": [
    "Now, define task6 pattern which will by used by the function `task6` to split the recipe text. Your pattern will be similar to task5's solution, but modified so splitting works correctly. "
   ]
  },
  {
   "cell_type": "code",
   "execution_count": 24,
   "id": "2362a33e",
   "metadata": {
    "editable": true,
    "slideshow": {
     "slide_type": ""
    },
    "tags": []
   },
   "outputs": [],
   "source": [
    "task6_pattern=re.compile(r'(?=Recipe \\d+:)')\n"
   ]
  },
  {
   "cell_type": "code",
   "execution_count": 25,
   "id": "f1eb5ad4",
   "metadata": {
    "editable": true,
    "slideshow": {
     "slide_type": ""
    },
    "tags": []
   },
   "outputs": [],
   "source": [
    "# YOU DO NOT NEED TO MODIFY THIS FUNCTION\n",
    "def task6(recipe_text,regex_to_use=task6_pattern):\n",
    "\n",
    "    srt = re.split(regex_to_use, recipe_text.strip())\n",
    "    return [s for s in srt if s]\n"
   ]
  },
  {
   "cell_type": "markdown",
   "id": "24be6102",
   "metadata": {},
   "source": [
    "Now, we will test your new regular expression to see if it behaves properly:"
   ]
  },
  {
   "cell_type": "code",
   "execution_count": 26,
   "id": "64978dd3",
   "metadata": {
    "editable": true,
    "slideshow": {
     "slide_type": ""
    },
    "tags": []
   },
   "outputs": [
    {
     "name": "stdout",
     "output_type": "stream",
     "text": [
      "......\n",
      "Recipe 1: 194_Cabbage_Kielbasa_Supper\n",
      "1) In a 5-qt. slow cooker, combine the cabbage, potatoes, onion, salt and pepper.\n",
      "2) Pour broth over all for 2 HOURS.\n",
      "3) Place sausage on top (slow cooker will be full, but cabbage will cook down).\n",
      "4) Cover and cook on low for 4-5 hours or until vegetables are tender and sausage is heated through.\n",
      "\n",
      "......\n",
      "Recipe 2: 195_Chocolate_Chip_Cookie_Ice_Cream_Cake\n",
      "1) Crush half the cookies (about 20 cookies) to make crumbs.\n",
      "2) Combine crumbs with melted margarine and press into the bottom of a 9-inch springform pan or pie plate.\n",
      "3) Stand remaining cookies around edge of pan.\n",
      "4) Spread 3/4 cup fudge topping over crust.\n",
      "5) Freeze 1.5 hours.\n",
      "6) Meanwhile, soften 1 quart of ice cream in microwave or on countertop.\n",
      "7) After crust has chilled, spread softened ice cream over fudge layer.\n",
      "8) Freeze 30 minutes.\n",
      "9) Scoop remaining quart of ice cream into balls and arrange over spread ice cream layer.\n",
      "10) Freeze until firm, 3.5-4.5 Hours.\n",
      "11) To serve, garnish with remainder of fudge topping, whipped cream and cherries.\n",
      "\n"
     ]
    }
   ],
   "source": [
    "spaced_recipe_text = task6(recipe_text)\n",
    "# Print each recipe + add a blank space between the line\n",
    "for recipe in spaced_recipe_text:\n",
    "    \n",
    "    print('......')\n",
    "    print(recipe.strip())\n",
    "    print()"
   ]
  },
  {
   "cell_type": "markdown",
   "id": "efdfdf95",
   "metadata": {},
   "source": [
    "Now, submit your solution for task6. Keep in mind the graders will test with other *similar* files of recipes, but not necessarily on the same examples that appear in this exercise: your solution should work for any length of file, with more than two recipes in it. "
   ]
  },
  {
   "cell_type": "code",
   "execution_count": null,
   "id": "1ab42597",
   "metadata": {},
   "outputs": [],
   "source": [
    "is_correct,prompt_string = test_split_function(task6)\n",
    "print(is_correct)\n",
    "print(prompt_string)\n",
    "llm_feedback = return_feedback_split(task6,'StudentName')\n",
    "print(llm_feedback)"
   ]
  },
  {
   "cell_type": "code",
   "execution_count": null,
   "id": "864744a4",
   "metadata": {},
   "outputs": [],
   "source": [
    "spaced_recipe_text"
   ]
  }
 ],
 "metadata": {
  "kernelspec": {
   "display_name": "Python 3 (ipykernel)",
   "language": "python",
   "name": "python3"
  },
  "language_info": {
   "codemirror_mode": {
    "name": "ipython",
    "version": 3
   },
   "file_extension": ".py",
   "mimetype": "text/x-python",
   "name": "python",
   "nbconvert_exporter": "python",
   "pygments_lexer": "ipython3",
   "version": "3.11.9"
  }
 },
 "nbformat": 4,
 "nbformat_minor": 5
}
