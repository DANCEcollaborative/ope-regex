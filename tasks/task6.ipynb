{
 "cells": [
  {
   "attachments": {},
   "cell_type": "markdown",
   "id": "d01a998c-fe2e-4f67-90d1-278153ce8484",
   "metadata": {
    "editable": true,
    "slideshow": {
     "slide_type": ""
    },
    "tags": []
   },
   "source": [
    "# Task 6: Make the recipe text easier to read\n",
    "Congrats to finding all of the recipe timeframes! Now that you have gotten more practice with regular expressions, you will now be using regular expression methods to make `recipe_text` much easier to read.\n",
    "\n",
    "Use regex method(s) to divide the `recipe_text` docstring with a new line of whitespace between each recipe:\n",
    "\n",
    "1. Create a variable called `spaced_regex_pattern` and use the `re.compile()` method to store your regex pattern. Ensure sure that the regex pattern is written as a raw string by prefixing it with `r`.\\\n",
    "\n"
   ]
  },
  {
   "cell_type": "markdown",
   "id": "f1eb5ad4",
   "metadata": {},
   "source": [
    "\n",
    "\n",
    "2. Create a variable called `spaced_recipe_text`. Within this variable, use the correct regex method to split the `recipe_text` docstring.\n",
    "3. Use both `spaced_regex_pattern` and `spaced_recipe_text` to create a function, which, given a string of recipes, will split them.\n",
    "\n",
    "Note: You can also print `spaced_recipe_text` to see if the necessary changes were made!"
   ]
  },
  {
   "cell_type": "code",
   "execution_count": null,
   "id": "2dc40caf-2f2c-42af-8efc-fd72768f673d",
   "metadata": {},
   "outputs": [],
   "source": []
  },
  {
   "cell_type": "code",
   "execution_count": null,
   "id": "64978dd3",
   "metadata": {},
   "outputs": [],
   "source": [
    "spaced_recipe_text = split_recipes(recipe_text)\n",
    "is_Correct,feedback = test_split_function(split_recipes)\n",
    "assert(is_Correct)"
   ]
  },
  {
   "cell_type": "code",
   "execution_count": null,
   "id": "0ec5fe57-6828-4b02-9976-0dfa44f81cce",
   "metadata": {},
   "outputs": [],
   "source": [
    "return_feedback_split(split_recipes,NAME)"
   ]
  }
 ],
 "metadata": {
  "kernelspec": {
   "display_name": "Python 3 (ipykernel)",
   "language": "python",
   "name": "python3"
  },
  "language_info": {
   "codemirror_mode": {
    "name": "ipython",
    "version": 3
   },
   "file_extension": ".py",
   "mimetype": "text/x-python",
   "name": "python",
   "nbconvert_exporter": "python",
   "pygments_lexer": "ipython3",
   "version": "3.11.9"
  }
 },
 "nbformat": 4,
 "nbformat_minor": 5
}
