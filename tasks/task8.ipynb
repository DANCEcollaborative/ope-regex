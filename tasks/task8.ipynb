{
 "cells": [
  {
   "cell_type": "code",
   "execution_count": null,
   "id": "ae757474-0213-448a-8886-25309e7b8870",
   "metadata": {
    "editable": true,
    "slideshow": {
     "slide_type": ""
    },
    "tags": [
     "dev"
    ]
   },
   "outputs": [],
   "source": [
    "## TEMP TEMP TEMPO \n",
    "import re\n",
    "\n",
    "recipe_text = \\\n",
    "'''Recipe 1: 194_Cabbage_Kielbasa_Supper\n",
    "1) In a 5-qt. slow cooker, combine the cabbage, potatoes, onion, salt and pepper.\n",
    "2) Pour broth over all for 2 HOURS.\n",
    "3) Place sausage on top (slow cooker will be full, but cabbage will cook down).\n",
    "4) Cover and cook on low for 4-5 hours or until vegetables are tender and sausage is heated through.\n",
    "Recipe 2: 195_Chocolate_Chip_Cookie_Ice_Cream_Cake\n",
    "1) Crush half the cookies (about 20 cookies) to make crumbs.\n",
    "2) Combine crumbs with melted margarine and press into the bottom of a 9-inch springform pan or pie plate.\n",
    "3) Stand remaining cookies around edge of pan.\n",
    "4) Spread 3/4 cup fudge topping over crust.\n",
    "5) Freeze 1.5 hours.\n",
    "6) Meanwhile, soften 1 quart of ice cream in microwave or on countertop.\n",
    "7) After crust has chilled, spread softened ice cream over fudge layer.\n",
    "8) Freeze 30 minutes.\n",
    "9) Scoop remaining quart of ice cream into balls and arrange over spread ice cream layer.\n",
    "10) Freeze until firm, 3.5-4.5 Hours.\n",
    "11) To serve, garnish with remainder of fudge topping, whipped cream and cherries.'''\n",
    "\n",
    "replace_regex_pattern = re.compile(r'two hours|2 Hours', re.IGNORECASE)\n",
    "recipe_pattern_lookahead = re.compile(r'(?=Recipe \\d+:)')\n",
    "spaced_recipe_text = recipe_pattern_lookahead.split(recipe_text)\n",
    "\n",
    "# Print each recipe, adding blank line between them\n",
    "for recipe in spaced_recipe_text:\n",
    "    if recipe:\n",
    "        print(\"--------------- start recipe ----------------------------------\")\n",
    "        print(recipe.strip())\n",
    "        print('............... end recipe ....................................\\n')"
   ]
  },
  {
   "cell_type": "markdown",
   "id": "654158b6-21ee-46e8-9b1b-5ddb52128e30",
   "metadata": {
    "editable": true,
    "jupyter": {
     "source_hidden": true
    },
    "slideshow": {
     "slide_type": ""
    },
    "tags": []
   },
   "source": [
    "## Task 8: Shorten the recipe time frames to save time\n",
    "\n",
    "Modify the function below using __one__ correct regex method to substitute \"two hours\" and \"2 Hours\" (case-insensitive) with \"1.5 hours\". \n",
    "\n",
    "Notes:\n",
    "* This function takes the list of separated recipes you created in Task 6 (stored in variable `spaced_recipe_text`) and applies the replacement text to each element found in the recipe.\n",
    "* Use the regex pattern you created in Task 7, `replace_regex_pattern`, as your search term.\n",
    "\n",
    "Below your function definition is a cell that you can use to test your work. "
   ]
  },
  {
   "cell_type": "code",
   "execution_count": null,
   "id": "08b5487a-f059-41e5-8883-e34a7516a684",
   "metadata": {
    "editable": true,
    "slideshow": {
     "slide_type": ""
    },
    "tags": [
     "task8"
    ]
   },
   "outputs": [],
   "source": [
    "import re"
   ]
  },
  {
   "cell_type": "code",
   "execution_count": null,
   "id": "17f4c112-b46f-4dc4-8c59-0bca649c2f94",
   "metadata": {
    "editable": true,
    "slideshow": {
     "slide_type": ""
    },
    "tags": [
     "task8"
    ]
   },
   "outputs": [],
   "source": [
    "def task8():\n",
    "    modified_texts=[]\n",
    "    for recipe in spaced_recipe_text:\n",
    "        if recipe:\n",
    "            organized_recipe_text = ...\n",
    "            modified_texts.append(organized_recipe_text)\n",
    "    return modified_texts\n"
   ]
  },
  {
   "cell_type": "markdown",
   "id": "0ab00561-3154-4cae-9b6d-e6342f715139",
   "metadata": {
    "editable": true,
    "slideshow": {
     "slide_type": ""
    },
    "tags": []
   },
   "source": [
    "### Test your function here\n",
    "\n",
    "Before submitting, you can test your function using the cell below. Check that each instance of \"two hours\" and \"2 Hours\" (case-insensitive) in `recipe_text` is replaced with \"1.5 hours\"."
   ]
  },
  {
   "cell_type": "code",
   "execution_count": null,
   "id": "dd8f583b",
   "metadata": {
    "editable": true,
    "scrolled": true,
    "slideshow": {
     "slide_type": ""
    },
    "tags": []
   },
   "outputs": [],
   "source": [
    "organized_recipe_text = task8()\n",
    "\n",
    "for recipe in organized_recipe_text:\n",
    "    if recipe:\n",
    "        print(\"--------------- start recipe ----------------------------------\")\n",
    "        print(recipe.strip())\n",
    "        print('............... end recipe ....................................\\n')"
   ]
  },
  {
   "cell_type": "code",
   "execution_count": null,
   "id": "e1b2ac66",
   "metadata": {
    "editable": true,
    "slideshow": {
     "slide_type": ""
    },
    "tags": []
   },
   "outputs": [],
   "source": [
    "# DO NOT MODIFY THIS CODE \n",
    "\n",
    "import utils\n",
    "utils.grade('task8')"
   ]
  }
 ],
 "metadata": {
  "kernelspec": {
   "display_name": "Python 3 (ipykernel)",
   "language": "python",
   "name": "python3"
  },
  "language_info": {
   "codemirror_mode": {
    "name": "ipython",
    "version": 3
   },
   "file_extension": ".py",
   "mimetype": "text/x-python",
   "name": "python",
   "nbconvert_exporter": "python",
   "pygments_lexer": "ipython3",
   "version": "3.11.9"
  }
 },
 "nbformat": 4,
 "nbformat_minor": 5
}
