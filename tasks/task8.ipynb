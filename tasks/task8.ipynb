{
 "cells": [
  {
   "cell_type": "code",
   "execution_count": 2,
   "id": "83a75130",
   "metadata": {},
   "outputs": [],
   "source": [
    "# THIS CELL WILL BE DELETED WHEN DEVELOPMENT IS COMPLETE\n",
    "\n",
    "import re\n",
    "\n",
    "replace_regex_pattern = re.compile(r'two hours|2 hours',re.IGNORECASE)\n",
    "\n",
    "\n",
    "recipe_text = \\\n",
    "'''Recipe 1: 194_Cabbage_Kielbasa_Supper\n",
    "1) In a 5-qt. slow cooker, combine the cabbage, potatoes, onion, salt and pepper.\n",
    "2) Pour broth over all for 2 HOURS.\n",
    "3) Place sausage on top (slow cooker will be full, but cabbage will cook down).\n",
    "4) Cover and cook on low for 4-5 hours or until vegetables are tender and sausage is heated through.\n",
    "Recipe 2: 195_Chocolate_Chip_Cookie_Ice_Cream_Cake\n",
    "1) Crush half the cookies (about 20 cookies) to make crumbs.\n",
    "2) Combine crumbs with melted margarine and press into the bottom of a 9-inch springform pan or pie plate.\n",
    "3) Stand remaining cookies around edge of pan.\n",
    "4) Spread 3/4 cup fudge topping over crust.\n",
    "5) Freeze 1.5 hours.\n",
    "6) Meanwhile, soften 1 quart of ice cream in microwave or on countertop.\n",
    "7) After crust has chilled, spread softened ice cream over fudge layer.\n",
    "8) Freeze 30 minutes.\n",
    "9) Scoop remaining quart of ice cream into balls and arrange over spread ice cream layer.\n",
    "10) Freeze until firm, 3.5-4.5 Hours.\n",
    "11) To serve, garnish with remainder of fudge topping, whipped cream and cherries.'''"
   ]
  },
  {
   "cell_type": "code",
   "execution_count": 6,
   "id": "826dddf2",
   "metadata": {},
   "outputs": [],
   "source": [
    "# YOUR CODE HERE\n",
    "def split_recipes(recipe_text):\n",
    "    spaced_regex_pattern = re.compile(r'(?=Recipe \\d+:)')\n",
    "    #spaced_regex_pattern = re.compile(r'(.+Recipe \\d+:)')\n",
    "    #spaced_regex_pattern = re.compile(r'Recipe \\d:')\n",
    "    #spaced_regex_pattern = re.compile(r'(?=Recipe)')\n",
    "    #print(re.findall(spaced_regex_pattern,recipe_text.strip()))\n",
    "    srt = re.split(spaced_regex_pattern, recipe_text.strip())\n",
    "    return [ s for s in srt if s]\n",
    "spaced_recipe_text = split_recipes(recipe_text)#,spaced_regex_pattern)"
   ]
  },
  {
   "cell_type": "markdown",
   "id": "654158b6-21ee-46e8-9b1b-5ddb52128e30",
   "metadata": {
    "editable": true,
    "slideshow": {
     "slide_type": ""
    },
    "tags": []
   },
   "source": [
    "## Task 8: Shorten the recipe time frames to save time\n",
    "\n",
    "Using `replace_regex_pattern`, create function using __one__ correct regex method to substitute 'two hours' and '2 Hours' with '1.5 hours'. Your function should take the list of separate recipes you made in task 6 (stored in spaced_recipe_text), and apply the replacement to each element in the list.\n",
    "\n",
    "Note: You can also print your results to see if the necessary changes were made!"
   ]
  },
  {
   "cell_type": "code",
   "execution_count": 8,
   "id": "17f4c112-b46f-4dc4-8c59-0bca649c2f94",
   "metadata": {},
   "outputs": [],
   "source": [
    "def task8():\n",
    "    #raise NotImplementedError\n",
    "    for recipe in spaced_recipe_text:\n",
    "        organized_recipe_text = re.sub(replace_regex_pattern,'1.5 hours', recipe)\n",
    "        return organized_recipe_text"
   ]
  },
  {
   "cell_type": "code",
   "execution_count": 9,
   "id": "dd8f583b",
   "metadata": {},
   "outputs": [],
   "source": [
    "organized_recipe_text = task8()"
   ]
  },
  {
   "cell_type": "code",
   "execution_count": 10,
   "id": "9ccbbd82-4571-48d7-b9ea-4327a35a5651",
   "metadata": {},
   "outputs": [],
   "source": [
    "assert 'two hours' not in organized_recipe_text\n",
    "assert '2 Hours' not in organized_recipe_text\n",
    "assert '1.5 hours' in organized_recipe_text"
   ]
  },
  {
   "cell_type": "code",
   "execution_count": 11,
   "id": "d848d1bd",
   "metadata": {},
   "outputs": [
    {
     "data": {
      "text/plain": [
       "'Recipe 1: 194_Cabbage_Kielbasa_Supper\\n1) In a 5-qt. slow cooker, combine the cabbage, potatoes, onion, salt and pepper.\\n2) Pour broth over all for 1.5 hours.\\n3) Place sausage on top (slow cooker will be full, but cabbage will cook down).\\n4) Cover and cook on low for 4-5 hours or until vegetables are tender and sausage is heated through.\\n'"
      ]
     },
     "execution_count": 11,
     "metadata": {},
     "output_type": "execute_result"
    }
   ],
   "source": [
    "organized_recipe_text"
   ]
  },
  {
   "cell_type": "code",
   "execution_count": null,
   "id": "e1b2ac66",
   "metadata": {},
   "outputs": [],
   "source": []
  }
 ],
 "metadata": {
  "kernelspec": {
   "display_name": "base",
   "language": "python",
   "name": "python3"
  },
  "language_info": {
   "codemirror_mode": {
    "name": "ipython",
    "version": 3
   },
   "file_extension": ".py",
   "mimetype": "text/x-python",
   "name": "python",
   "nbconvert_exporter": "python",
   "pygments_lexer": "ipython3",
   "version": "3.11.3"
  }
 },
 "nbformat": 4,
 "nbformat_minor": 5
}
