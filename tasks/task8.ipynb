{
 "cells": [
  {
   "cell_type": "markdown",
   "id": "654158b6-21ee-46e8-9b1b-5ddb52128e30",
   "metadata": {
    "editable": false,
    "slideshow": {
     "slide_type": ""
    },
    "tags": []
   },
   "source": [
    "## Task 8: Shorten the recipe time frames to save time\n",
    "\n",
    "In the cell below, define variable `updated_recipe_text` as a regular expression to substitute \"two hours\" and \"2 Hours\" (case-insensitive) with \"1.5 hours\". Within your definition, use the regex pattern you created in Task 7, `replace_regex_pattern`, as your search term.\n",
    "\n",
    "Note:\n",
    "1. Ensure that the regex pattern is written as a raw string by prefixing it with `r`.\n",
    "2. This regular expression does not create a regular expression *pattern*  (rather, it takes one as input), so you don't need to use `re.compile()`. "
   ]
  },
  {
   "cell_type": "code",
   "execution_count": null,
   "id": "262a3fe6-5478-4d3d-ae50-868a876c58a5",
   "metadata": {
    "editable": true,
    "slideshow": {
     "slide_type": ""
    },
    "tags": []
   },
   "outputs": [],
   "source": [
    "# DEFINE YOUR REGEX HERE\n",
    "\n",
    "updated_recipe_text = "
   ]
  },
  {
   "cell_type": "markdown",
   "id": "d709e548-9704-4df7-b611-45e540d58b0c",
   "metadata": {
    "editable": false,
    "slideshow": {
     "slide_type": ""
    },
    "tags": []
   },
   "source": [
    "The function below takes the list of separated recipes you created in Task 6 (stored in variable `spaced_recipe_text`) and applies the regular expression you create for this task, `updated_recipe_text`, to each recipe. "
   ]
  },
  {
   "cell_type": "code",
   "execution_count": null,
   "id": "17f4c112-b46f-4dc4-8c59-0bca649c2f94",
   "metadata": {
    "editable": false,
    "slideshow": {
     "slide_type": ""
    },
    "tags": [
     "task8"
    ]
   },
   "outputs": [],
   "source": [
    "# RUN THIS CELL. IT CANNOT BE MODIFIED.\n",
    "\n",
    "def task8():\n",
    "    modified_texts=[]\n",
    "    for recipe in spaced_recipe_text:\n",
    "        if recipe:\n",
    "            modified_texts.append(updated_recipe_text)\n",
    "    return modified_texts"
   ]
  },
  {
   "cell_type": "markdown",
   "id": "0ab00561-3154-4cae-9b6d-e6342f715139",
   "metadata": {
    "editable": false,
    "slideshow": {
     "slide_type": ""
    },
    "tags": []
   },
   "source": [
    "### Test your function here\n",
    "\n",
    "Before submitting, you can test your regular expression using the cell below. Check that each instance of \"two hours\" and \"2 Hours\" (case-insensitive) in `recipe_text` is replaced with \"1.5 hours\"."
   ]
  },
  {
   "cell_type": "code",
   "execution_count": null,
   "id": "dd8f583b",
   "metadata": {
    "editable": false,
    "scrolled": true,
    "slideshow": {
     "slide_type": ""
    },
    "tags": []
   },
   "outputs": [],
   "source": [
    "# RUN THIS CELL. IT CANNOT BE MODIFIED.\n",
    "\n",
    "organized_recipe_text = task8()\n",
    "\n",
    "for recipe in organized_recipe_text:\n",
    "    if recipe:\n",
    "        print(\"--------------- start recipe ----------------------------------\")\n",
    "        print(recipe.strip())\n",
    "        print('............... end recipe ....................................\\n')"
   ]
  },
  {
   "cell_type": "markdown",
   "id": "430b6821-753f-4f5a-8ffd-4ab85ec46a06",
   "metadata": {
    "editable": false,
    "slideshow": {
     "slide_type": ""
    },
    "tags": []
   },
   "source": [
    "### Submit your code here\n",
    "\n",
    "When you are ready, execute the cells below to submit and test your code. \n",
    "\n",
    "You will receive feedback about your code. You can improve your code and submit as many times as necessary. "
   ]
  },
  {
   "cell_type": "code",
   "execution_count": null,
   "id": "e1b2ac66",
   "metadata": {
    "editable": false,
    "slideshow": {
     "slide_type": ""
    },
    "tags": []
   },
   "outputs": [],
   "source": [
    "# RUN THIS CELL. IT CANNOT BE MODIFIED.\n",
    "\n",
    "import utils\n",
    "utils.grade('task8')"
   ]
  }
 ],
 "metadata": {
  "kernelspec": {
   "display_name": "Python 3 (ipykernel)",
   "language": "python",
   "name": "python3"
  },
  "language_info": {
   "codemirror_mode": {
    "name": "ipython",
    "version": 3
   },
   "file_extension": ".py",
   "mimetype": "text/x-python",
   "name": "python",
   "nbconvert_exporter": "python",
   "pygments_lexer": "ipython3",
   "version": "3.11.9"
  }
 },
 "nbformat": 4,
 "nbformat_minor": 5
}
