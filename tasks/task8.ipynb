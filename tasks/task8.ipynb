{
 "cells": [
  {
   "cell_type": "markdown",
   "id": "654158b6-21ee-46e8-9b1b-5ddb52128e30",
   "metadata": {
    "editable": true,
    "slideshow": {
     "slide_type": ""
    },
    "tags": []
   },
   "source": [
    "## Task 8: Shorten the recipe time frames to save time\n",
    "\n",
    "Using `replace_regex_pattern`, modify the function below using __one__ correct regex method to substitute 'two hours' and '2 Hours' with '1.5 hours'. The function takes the list of separate recipes you made in task 6 (stored in spaced_recipe_text), and applies the replacement to each element in the list.\n",
    "\n",
    "Note: You can also print your results to see if the necessary changes were made!"
   ]
  },
  {
   "cell_type": "code",
   "execution_count": 8,
   "id": "17f4c112-b46f-4dc4-8c59-0bca649c2f94",
   "metadata": {},
   "outputs": [],
   "source": [
    "def task8():\n",
    "    modded_texts=[]\n",
    "    spaced_recipe_text = split_recipes(recipe_text)\n",
    "    for recipe in spaced_recipe_text:\n",
    "        modded_texts.append(spaced_recipe_text_recipe_text)\n",
    "    return modded_texts\n",
    "\n"
   ]
  },
  {
   "cell_type": "code",
   "execution_count": 9,
   "id": "dd8f583b",
   "metadata": {},
   "outputs": [],
   "source": [
    "organized_recipe_text = task8()"
   ]
  },
  {
   "cell_type": "code",
   "execution_count": 10,
   "id": "9ccbbd82-4571-48d7-b9ea-4327a35a5651",
   "metadata": {},
   "outputs": [],
   "source": [
    "assert 'two hours' not in organized_recipe_text\n",
    "assert '2 Hours' not in organized_recipe_text\n",
    "assert '1.5 hours' in organized_recipe_text"
   ]
  },
  {
   "cell_type": "code",
   "execution_count": 11,
   "id": "d848d1bd",
   "metadata": {},
   "outputs": [
    {
     "data": {
      "text/plain": [
       "'Recipe 1: 194_Cabbage_Kielbasa_Supper\\n1) In a 5-qt. slow cooker, combine the cabbage, potatoes, onion, salt and pepper.\\n2) Pour broth over all for 1.5 hours.\\n3) Place sausage on top (slow cooker will be full, but cabbage will cook down).\\n4) Cover and cook on low for 4-5 hours or until vegetables are tender and sausage is heated through.\\n'"
      ]
     },
     "execution_count": 11,
     "metadata": {},
     "output_type": "execute_result"
    }
   ],
   "source": [
    "organized_recipe_text"
   ]
  },
  {
   "cell_type": "code",
   "execution_count": null,
   "id": "e1b2ac66",
   "metadata": {},
   "outputs": [],
   "source": [
    "# DO NOT MODIFY THIS CODE \n",
    "\n",
    "import utils\n",
    "utils.grade('task8')"
   ]
  }
 ],
 "metadata": {
  "kernelspec": {
   "display_name": "base",
   "language": "python",
   "name": "python3"
  },
  "language_info": {
   "codemirror_mode": {
    "name": "ipython",
    "version": 3
   },
   "file_extension": ".py",
   "mimetype": "text/x-python",
   "name": "python",
   "nbconvert_exporter": "python",
   "pygments_lexer": "ipython3",
   "version": "3.11.3"
  }
 },
 "nbformat": 4,
 "nbformat_minor": 5
}
