{
 "cells": [
  {
   "cell_type": "markdown",
   "id": "654158b6-21ee-46e8-9b1b-5ddb52128e30",
   "metadata": {
    "editable": true,
    "slideshow": {
     "slide_type": ""
    },
    "tags": []
   },
   "source": [
    "## Task 8: Shorten the recipe timeframes to save time\n",
    "\n",
    "### Insert instruction text \n",
    "\n",
    "1. Create a variable called `replace_regex_pattern` and use the `re.compile()` method to store your regex pattern. Ensure sure that the regex pattern is written as a raw string by prefixing it with `r`.\n"
   ]
  },
  {
   "cell_type": "code",
   "execution_count": null,
   "id": "54dca8b9",
   "metadata": {},
   "outputs": [],
   "source": []
  },
  {
   "cell_type": "markdown",
   "id": "b64bdf6e",
   "metadata": {},
   "source": [
    "\n",
    "2. Create a variable called `organized_recipe_text`. Within this variable use __one__ correct regex method to substitute 'two hours' and '2 Hours' with '1.5 hours'\n",
    "\n",
    "Note: You can also print `organized_recipe_text` to see if the necessary changes were made!"
   ]
  },
  {
   "cell_type": "code",
   "execution_count": null,
   "id": "17f4c112-b46f-4dc4-8c59-0bca649c2f94",
   "metadata": {},
   "outputs": [],
   "source": [
    "# YOUR CODE HERE\n",
    "raise NotImplementedError"
   ]
  },
  {
   "cell_type": "code",
   "execution_count": null,
   "id": "9ccbbd82-4571-48d7-b9ea-4327a35a5651",
   "metadata": {},
   "outputs": [],
   "source": [
    "assert 'two hours' not in organized_recipe_text\n",
    "assert '2 Hours' not in organized_recipe_text\n",
    "assert '1.5 hours' in organized_recipe_text"
   ]
  }
 ],
 "metadata": {
  "kernelspec": {
   "display_name": "Python 3 (ipykernel)",
   "language": "python",
   "name": "python3"
  },
  "language_info": {
   "codemirror_mode": {
    "name": "ipython",
    "version": 3
   },
   "file_extension": ".py",
   "mimetype": "text/x-python",
   "name": "python",
   "nbconvert_exporter": "python",
   "pygments_lexer": "ipython3",
   "version": "3.11.9"
  }
 },
 "nbformat": 4,
 "nbformat_minor": 5
}
