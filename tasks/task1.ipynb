{
 "cells": [
  {
   "cell_type": "markdown",
   "id": "b0c2eeb5-e03a-413c-8c71-f0fe49fdf749",
   "metadata": {
    "editable": true,
    "slideshow": {
     "slide_type": ""
    },
    "tags": []
   },
   "source": [
    "# PART 1: Searching Within Recipe Text\n",
    "\n",
    "In this section, you will practice creating regular expressions for a couple of different text patterns. Note that you want the regular expressions to be  __*exact matches*__ to the pattern(s) you are looking for. Therefore, when creating regular expressions, make sure to be specific so that it does not capture text you are not looking for.\n",
    "\n",
    "You will use regular expressions to find timeframes that are above an hour. Later, you will replace these timeframes with a shorter timeframe. "
   ]
  },
  {
   "cell_type": "markdown",
   "id": "af614504-12b8-49ca-b86f-f3ed2fb5a6b7",
   "metadata": {
    "editable": true,
    "slideshow": {
     "slide_type": ""
    },
    "tags": []
   },
   "source": [
    "## Task 1: Create and Apply a Regex Pattern for Integer Hours\n",
    "\n",
    "**Create** and **apply** a regex pattern that will match all integer numbers of hours within the recipe text."
   ]
  },
  {
   "cell_type": "markdown",
   "id": "2dfb8440-720c-48d5-a372-746341cac35a",
   "metadata": {
    "editable": true,
    "slideshow": {
     "slide_type": ""
    },
    "tags": []
   },
   "source": [
    "### Task 1: **Create** a Regex Pattern for Integer Hours\n",
    "Update `task1a()` to return a regular expression for integer numbers of hours, whether a single integer hour (e.g., \"2 HOURS\") or a range of integer hours (e.g., \"4-5 hours\").\n",
    "\n",
    "Things to Note: \n",
    "1. Ensure that the regex pattern is written as a raw string by prefixing it with `r`.\n",
    "2. Make sure the regular expression is __*case-insensitive*__: The regex pattern should match either captialized or non-capitalized words such as \"HOURS\" or \"hours\".\n",
    "3. Make sure the regular expression pattern __*matches only integer hours*__. For instance, it should not match '5 hours' if is part of a range like \"4.5-5.5 hours\".\n",
    "4. Use the `re.compile()` method to store your regex pattern.\n",
    "\n",
    "Below your `task1()` definition is a notebook cell where your team will test the regular expression before you submit it for grading. "
   ]
  },
  {
   "cell_type": "code",
   "execution_count": 16,
   "id": "42831b54",
   "metadata": {
    "editable": true,
    "slideshow": {
     "slide_type": ""
    },
    "tags": [
     "task1"
    ]
   },
   "outputs": [],
   "source": [
    "import re"
   ]
  },
  {
   "cell_type": "code",
   "execution_count": 15,
   "id": "4af154b9-b57a-4027-9036-bff233c9e205",
   "metadata": {
    "editable": true,
    "slideshow": {
     "slide_type": ""
    },
    "tags": [
     "task1"
    ]
   },
   "outputs": [],
   "source": [
    "# UPDATE task1() TO RETURN THE CORRECT REGULAR EXPRESSION\n",
    "\n",
    "def task1():\n",
    "    raise NotImplementedError\n"
   ]
  },
  {
   "cell_type": "markdown",
   "id": "1ca792d3-79a2-4a3e-a931-32ceacd4ae13",
   "metadata": {
    "editable": true,
    "slideshow": {
     "slide_type": ""
    },
    "tags": []
   },
   "source": [
    "### Test your regular expression here\n",
    "\n",
    "Before submitting, test your regular expression in the cell below. A couple of tests are already defined for you. Create additional tests to thoroughly test your regular expression."
   ]
  },
  {
   "cell_type": "code",
   "execution_count": 19,
   "id": "5bbf9473-5a99-49f2-91ee-8c906a719190",
   "metadata": {
    "editable": true,
    "slideshow": {
     "slide_type": ""
    },
    "tags": []
   },
   "outputs": [],
   "source": [
    "# Define a variable for the regular expression output of task1a()\n",
    "integer_matches = task1()\n",
    "\n",
    "# Sample test cases; write some more\n",
    "assert integer_matches.match(\"2 hours\"), \"Assertion failed: 2 hours NOT matched.\"\n",
    "assert not(integer_matches.match(\"2.5 hours\")), \"Assertion failed: 2.5 hours INCORRECTLY matched.\"\n",
    "\n"
   ]
  },
  {
   "cell_type": "markdown",
   "id": "07fe1284-72e5-4da1-ab81-82dd8656840e",
   "metadata": {
    "editable": true,
    "slideshow": {
     "slide_type": ""
    },
    "tags": []
   },
   "source": [
    "# Submit your code here\n",
    "\n",
    "When you are ready, execute the cell below to submit and test your code on a larger set of text than in `recipe_text` above. \n",
    "\n",
    "You will receive feedback about your code. You can improve your code and submit as many times as necessary. "
   ]
  },
  {
   "cell_type": "code",
   "execution_count": null,
   "id": "765d7ca4-39da-44eb-a97c-76da0b211dc1",
   "metadata": {
    "editable": true,
    "slideshow": {
     "slide_type": ""
    },
    "tags": []
   },
   "outputs": [],
   "source": [
    "import utils\n",
    "utils.grade('task1')"
   ]
  }
 ],
 "metadata": {
  "kernelspec": {
   "display_name": "Python 3 (ipykernel)",
   "language": "python",
   "name": "python3"
  },
  "language_info": {
   "codemirror_mode": {
    "name": "ipython",
    "version": 3
   },
   "file_extension": ".py",
   "mimetype": "text/x-python",
   "name": "python",
   "nbconvert_exporter": "python",
   "pygments_lexer": "ipython3",
   "version": "3.11.9"
  }
 },
 "nbformat": 4,
 "nbformat_minor": 5
}
