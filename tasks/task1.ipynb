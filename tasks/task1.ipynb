{
 "cells": [
  {
   "cell_type": "markdown",
   "id": "e1ea6043-d84d-49f3-95e6-f4019618c991",
   "metadata": {},
   "source": [
    "# PART 1: Searching Within Recipe Text\n",
    "\n",
    "In this section, you will utilize a few more examples of regular expressions. Note that you want the regular expression to an __*exact match*__ to the word(s) you are looking for. Thereby, when making regular expressions, make sure to be specific in the pattern you create to make sure it does not capture words you are not looking for.\n",
    "\n",
    "So, in this section, you will be using regular expressions to find the exact timeframes that are above an hour--which will later be replaced with a shorter timeframe. Based on this task, you will want to make regular expression patterns to find the following phrases.\n",
    "\n",
    "Here is a __quick summary of coding sections for Part 1.__\n",
    "- __Recipe 1: Regex Pattern for *Only* Integer Hours:__ create a regex pattern that can match to all integer hours--whether it is in the form of a single integer hour or a range of integer hours.  \n",
    "- __Recipe 2: Regex Pattern for *Only* Decimal Hours:__ create regex pattern(s) that can match to all decimal hours--whether it is in the form of a single decimal hour or a range of decimal hours."
   ]
  },
  {
   "cell_type": "markdown",
   "id": "af614504-12b8-49ca-b86f-f3ed2fb5a6b7",
   "metadata": {},
   "source": [
    "## Task 1: Regex Pattern for Integer Hours\n",
    "For Task 1, you want to create a regex pattern that can match to all integer hours within the recipe text--whether it is in the form of a single integer hour (ex: \"2 HOURS\") or a range of integer hours (ex: \"4-5 hours\"). \n",
    "\n",
    "Things to Note: \n",
    "1. Create a variable called `integer_hour_pattern` and use the `re.compile()` method to store your regex pattern. Ensure sure that the regex pattern is written as a raw string by prefixing it with `r`.\n",
    "    - Make this that regular expression is __*case-insensitive*__--where the regex pattern matches to non-capitalized or capitalized words such as \"hours\" or \"HOURS\".\n",
    "    - Additionally, make sure the regular expression pattern should __*only extract to integer hours*__ and should not match '5 hours' if is part of a range like '4.5-5.5 hours'.\n",
    "4. Create a variable called `matches`. Within this variable use the correct regex method to find all the matches.\n",
    "5. Create a for-loop that goes through every `item` in `matches`. Then, the `item` is printed out.\n",
    "\n",
    "Based on this, your regex pattern should output EXACTLY to the phrases below (where there should not be any more or any less ouputs):\n",
    "* \"2 HOURS\"\n",
    "* \"4-5 hours\""
   ]
  },
  {
   "cell_type": "code",
   "execution_count": null,
   "id": "4af154b9-b57a-4027-9036-bff233c9e205",
   "metadata": {},
   "outputs": [],
   "source": [
    "# YOUR CODE HERE\n",
    "\n",
    "def task1(x):\n",
    "    raise NotImplementedError\n",
    "    # return re.compile(r'(?<!\\S)\\d{1,2}(?:-\\d{1,2})?\\s*hours?\\b', re.IGNORECASE)\n",
    "\n"
   ]
  },
  {
   "cell_type": "code",
   "execution_count": null,
   "id": "3bb43081-0ebc-4093-813e-e6cf20e5b149",
   "metadata": {},
   "outputs": [],
   "source": [
    "assert integer_hour_pattern.findall(recipe_text) == ['2 HOURS'] or [' 2 HOURS'], \"Assertion failed for '2 HOURS'.\"\n",
    "assert integer_hour_pattern.findall(recipe_text) == ['4-5 hours'] or [' 4-5 hours'], \"Assertion failed for '4-5 hours'.\"\n",
    "assert '5 hours' not in matches, \"Assertion failed because 5 hours in matches\"\n",
    "assert '5 hours' not in matches, \"Assertion failed because 5 hours in matches\"\n",
    "assert '5 Hours' not in matches, \"Assertion failed because 5 Hours in matches\"\n",
    "assert '5 hours' not in matches, \"Assertion failed because 5 Hours in matches\""
   ]
  },
  {
   "cell_type": "code",
   "execution_count": null,
   "id": "9ccbbd82-4571-48d7-b9ea-4327a35a5651",
   "metadata": {},
   "outputs": [],
   "source": [
    "assert 'two hours' not in organized_recipe_text\n",
    "assert '2 Hours' not in organized_recipe_text\n",
    "assert '1.5 hours' in organized_recipe_text"
   ]
  },
  {
   "cell_type": "code",
   "execution_count": null,
   "id": "17f4c112-b46f-4dc4-8c59-0bca649c2f94",
   "metadata": {},
   "outputs": [],
   "source": [
    "import utils\n",
    "utils.grade('task1')"
   ]
  }
 ],
 "metadata": {
  "kernelspec": {
   "display_name": "Python 3 (ipykernel)",
   "language": "python",
   "name": "python3"
  },
  "language_info": {
   "codemirror_mode": {
    "name": "ipython",
    "version": 3
   },
   "file_extension": ".py",
   "mimetype": "text/x-python",
   "name": "python",
   "nbconvert_exporter": "python",
   "pygments_lexer": "ipython3",
   "version": "3.11.9"
  }
 },
 "nbformat": 4,
 "nbformat_minor": 5
}
