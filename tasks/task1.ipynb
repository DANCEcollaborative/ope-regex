{
 "cells": [
  {
   "cell_type": "markdown",
   "id": "b0c2eeb5-e03a-413c-8c71-f0fe49fdf749",
   "metadata": {
    "editable": true,
    "slideshow": {
     "slide_type": ""
    },
    "tags": []
   },
   "source": [
    "# PART 1: Searching Within Recipe Text\n",
    "\n",
    "In this section, you will practice creating regular expressions for a couple of text patterns. Note that you want the regular expressions to be  __*exact matches*__ to the pattern(s) you are looking for. Therefore, when creating regular expressions, make sure to be specific so that it does not capture text you are not looking for.\n",
    "\n",
    "You will use regular expressions to find timeframes that are above an hour. Later, you will replace these timeframes with a shorter timeframe. "
   ]
  },
  {
   "cell_type": "markdown",
   "id": "af614504-12b8-49ca-b86f-f3ed2fb5a6b7",
   "metadata": {
    "editable": true,
    "slideshow": {
     "slide_type": ""
    },
    "tags": []
   },
   "source": [
    "## Task 1: Regex Pattern for Integer Hours\n",
    "Create a function, `task1()`, that will simply return a regex pattern matching all integer numbers of hours within the recipe text, whether a single integer hour (e.g., \"2 HOURS\") or a range of integer hours (e.g., \"4-5 hours\").\n",
    "\n",
    "Things to Note: \n",
    "1. Ensure that the regex pattern is written as a raw string by prefixing it with `r`.\n",
    "2. Make sure the regular expression is __*case-insensitive*__: The regex pattern should match either captialized or non-capitalized words such as \"HOURS\" or \"hours\".\n",
    "3. Make sure the regular expression pattern __*matches only integer hours*__. For instance, it should not match '5 hours' if is part of a range like \"4.5-5.5 hours\".\n",
    "4. Use the `re.compile()` method to store your regex pattern.\n",
    "\n",
    "Below your `task1()` definition is a notebook cell where you will code the value for the variable `matches` and test your code."
   ]
  },
  {
   "cell_type": "code",
   "execution_count": null,
   "id": "42831b54",
   "metadata": {
    "editable": true,
    "slideshow": {
     "slide_type": ""
    },
    "tags": [
     "task1"
    ]
   },
   "outputs": [],
   "source": [
    "import re"
   ]
  },
  {
   "cell_type": "code",
   "execution_count": null,
   "id": "4af154b9-b57a-4027-9036-bff233c9e205",
   "metadata": {
    "editable": true,
    "slideshow": {
     "slide_type": ""
    },
    "tags": [
     "task1"
    ]
   },
   "outputs": [],
   "source": [
    "# YOUR CODE HERE\n",
    "\n",
    "def task1():\n",
    "    raise NotImplementedError\n",
    "    # return ... \n",
    "    # return re.compile(r'(?<!\\S)\\d{1,2}(?:-\\d{1,2})?\\s*hours?\\b', re.IGNORECASE)\n",
    "    # return re.compile(r'(?<!\\S)\\d{1,2}\\s*hours?\\b', re.IGNORECASE)\n",
    "\n"
   ]
  },
  {
   "cell_type": "markdown",
   "id": "c565299a-f174-4c99-b668-29b692c472f5",
   "metadata": {
    "editable": true,
    "slideshow": {
     "slide_type": ""
    },
    "tags": []
   },
   "source": [
    "# Test your code before submission\n",
    "\n",
    "In the cell below, code the value for the variable `matches` and test your code.\n",
    "\n",
    "Your regex pattern should output EXACTLY the phrases below:\n",
    "* \"2 HOURS\"\n",
    "* \"4-5 hours\""
   ]
  },
  {
   "cell_type": "code",
   "execution_count": null,
   "id": "6bd58608-ffe6-49c3-8479-7df331045252",
   "metadata": {
    "editable": true,
    "slideshow": {
     "slide_type": ""
    },
    "tags": []
   },
   "outputs": [],
   "source": [
    "integer_hour_pattern = task1()\n",
    "\n",
    "# YOUR CODE HERE\n",
    "raise NotImplementedError\n",
    "# matches =\n",
    "# matches = integer_hour_pattern.findall(recipe_text)\n",
    "\n",
    "for item in matches:\n",
    "    print(item)\n",
    "\n",
    "assert '2 HOURS' in matches, \"Assertion failed because '2 HOURS' is not in matches.\"\n",
    "assert '4-5 hours'in matches, \"Assertion failed because '4-5 hours' is not in matches.\"\n",
    "assert '5 hours' not in matches, \"Assertion failed because '5 hours' is in matches\"\n",
    "assert 'two hours' not in matches, \"Assertion failed because 'two hours' is in matches\"\n",
    "assert '1.5 hours' not in matches, \"Assertion failed because '1.5 hours' is in matches\""
   ]
  },
  {
   "cell_type": "markdown",
   "id": "1ca792d3-79a2-4a3e-a931-32ceacd4ae13",
   "metadata": {
    "editable": true,
    "slideshow": {
     "slide_type": ""
    },
    "tags": []
   },
   "source": [
    "# Submit your code here\n",
    "\n",
    "When you are ready, execute the cell below to submit and test your code on a larger set of text than in `recipe_text` above. \n",
    "\n",
    "You will receive feedback about your code. You can improve your code and submit as many times as necessary. "
   ]
  },
  {
   "cell_type": "code",
   "execution_count": null,
   "id": "765d7ca4-39da-44eb-a97c-76da0b211dc1",
   "metadata": {
    "editable": true,
    "slideshow": {
     "slide_type": ""
    },
    "tags": []
   },
   "outputs": [],
   "source": [
    "import utils\n",
    "utils.grade('task1')"
   ]
  }
 ],
 "metadata": {
  "kernelspec": {
   "display_name": "Python 3 (ipykernel)",
   "language": "python",
   "name": "python3"
  },
  "language_info": {
   "codemirror_mode": {
    "name": "ipython",
    "version": 3
   },
   "file_extension": ".py",
   "mimetype": "text/x-python",
   "name": "python",
   "nbconvert_exporter": "python",
   "pygments_lexer": "ipython3",
   "version": "3.11.9"
  }
 },
 "nbformat": 4,
 "nbformat_minor": 5
}
