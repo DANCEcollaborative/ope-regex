{
 "cells": [
  {
   "cell_type": "markdown",
   "id": "65eca8f1-3fe6-4de9-a564-00a50e23d17d",
   "metadata": {
    "editable": true,
    "slideshow": {
     "slide_type": ""
    },
    "tags": []
   },
   "source": [
    "# Modifying Text Using Regular Expressions\n",
    "\n",
    "Congrats on finding all of the recipe timeframes! Now that you've had some practice creating regular expressions to search for text, you will use regular expression methods to modify text: You will make `recipe_text` easier to read and modify some of the times within it. "
   ]
  },
  {
   "attachments": {},
   "cell_type": "markdown",
   "id": "d01a998c-fe2e-4f67-90d1-278153ce8484",
   "metadata": {
    "editable": true,
    "slideshow": {
     "slide_type": ""
    },
    "tags": []
   },
   "source": [
    "## Task 5: Find places where new recipes begin\n",
    "\n",
    "Currently, the recipes in `recipe_text` run together (with no vertical space between them), making it hard to see where one recipe ends and another begins. To refresh your memory, you may want to take another look at the `recipe_text` definition near the top of this interface. \n",
    "\n",
    "First, you will define a variable, `new_recipe_pattern`, as a regular expression for finding place(s) where new recipe(s) begin.\n",
    "\n",
    "Notes: \n",
    "\n",
    "1. Ensure that the regex pattern is written as a raw string by prefixing it with `r`.\n",
    "5. Use the `re.compile()` method to store your regex pattern."
   ]
  },
  {
   "cell_type": "code",
   "execution_count": 5,
   "id": "f3e26de1-1896-435c-94b7-2567c17486bd",
   "metadata": {
    "editable": true,
    "slideshow": {
     "slide_type": ""
    },
    "tags": [
     "task5"
    ]
   },
   "outputs": [],
   "source": [
    "import re"
   ]
  },
  {
   "cell_type": "markdown",
   "id": "4843af76-8382-4010-991f-588e776336df",
   "metadata": {
    "editable": true,
    "slideshow": {
     "slide_type": ""
    },
    "tags": []
   },
   "source": [
    "#### Define variable `new_recipe_pattern` to be your regular expression."
   ]
  },
  {
   "cell_type": "code",
   "execution_count": 18,
   "id": "45b841a6-d3cb-49d7-ae1f-431d4097bf3f",
   "metadata": {
    "editable": true,
    "slideshow": {
     "slide_type": ""
    },
    "tags": []
   },
   "outputs": [],
   "source": [
    "# YOUR CODE HERE\n",
    "\n",
    "# new_recipe_pattern = ... \n",
    "new_recipe_pattern = re.compile(r'(.+Recipe \\d+:)')\n",
    "                     # re.compile(r'(?=Recipe \\d+:)')\n"
   ]
  },
  {
   "cell_type": "markdown",
   "id": "6b721029-415e-478f-849b-dd03daac4ed0",
   "metadata": {
    "editable": true,
    "slideshow": {
     "slide_type": ""
    },
    "tags": []
   },
   "source": [
    "### Test your regular expression here\n",
    "\n",
    "Before submitting, test your regular expression in the cell below. Two tests are already defined for you. Create additional tests to thoroughly test your regular expression."
   ]
  },
  {
   "cell_type": "code",
   "execution_count": null,
   "id": "64978dd3",
   "metadata": {},
   "outputs": [],
   "source": [
    "spaced_recipe_text = split_recipes(recipe_text)\n",
    "is_Correct,feedback = test_split_function(split_recipes)\n",
    "assert(is_Correct)"
   ]
  },
  {
   "cell_type": "code",
   "execution_count": 22,
   "id": "9abd3ecf-e809-4cc1-8b2b-915c50f3d74e",
   "metadata": {
    "editable": true,
    "slideshow": {
     "slide_type": ""
    },
    "tags": [
     "task5"
    ]
   },
   "outputs": [],
   "source": [
    "# Sample test cases; write some more.\n",
    "assert new_recipe_pattern.match(\" cups. Recipe 2: \"), \"Assertion failed: 'Recipe #: ' NOT matched.\"\n",
    "assert not(new_recipe_pattern.match(\"cups. Recipe follows:\")), \"Assertion failed: 'Recipe <text>' matched.\"\n",
    "assert not(new_recipe_pattern.match(\"Recipe 1:\")), \"Assertion failed: 'Recipe #' at beginning matched.\"\n"
   ]
  },
  {
   "cell_type": "code",
   "execution_count": null,
   "id": "0ec5fe57-6828-4b02-9976-0dfa44f81cce",
   "metadata": {},
   "outputs": [],
   "source": [
    "return_feedback_split(split_recipes,NAME)"
   ]
  }
 ],
 "metadata": {
  "kernelspec": {
   "display_name": "Python 3 (ipykernel)",
   "language": "python",
   "name": "python3"
  },
  "language_info": {
   "codemirror_mode": {
    "name": "ipython",
    "version": 3
   },
   "file_extension": ".py",
   "mimetype": "text/x-python",
   "name": "python",
   "nbconvert_exporter": "python",
   "pygments_lexer": "ipython3",
   "version": "3.11.9"
  }
 },
 "nbformat": 4,
 "nbformat_minor": 5
}
