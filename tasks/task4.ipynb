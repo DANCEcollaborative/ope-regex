{
 "cells": [
  {
   "cell_type": "markdown",
   "id": "8c76da8e-92f4-40f3-8ce9-392568c77e51",
   "metadata": {
    "editable": true,
    "slideshow": {
     "slide_type": ""
    },
    "tags": []
   },
   "source": [
    "## Task 4: **Apply** a regex pattern to retrieve decimal hours\n",
    "\n",
    "Update your regex from Task 3, if necessary, to successfully retrieve text strings that match your regex pattern using method `re.findall()`.\n",
    "\n",
    "Define variable `decimal_hour_pattern_task4` so that `re.findall()` will return strings like \" 1.5 hours\" and \" 3.5-4.5 Hours\". "
   ]
  },
  {
   "cell_type": "markdown",
   "id": "9ee13179-5918-4ff8-b324-dcfc7f334ad1",
   "metadata": {
    "editable": true,
    "slideshow": {
     "slide_type": ""
    },
    "tags": [
     "task4"
    ]
   },
   "source": [
    "In the cell below, define the variable `decimal_hour_pattern_task4` so that `findall()` will retrieve the strings we want to match. \n",
    "\n",
    "Remember:\n",
    "1. Ensure that the regex pattern is written as a raw string by prefixing it with `r`.\n",
    "2. Use the `re.compile()` method to store your regex pattern."
   ]
  },
  {
   "cell_type": "code",
   "execution_count": null,
   "id": "65eb48ed-ffcd-4f63-af28-50aa0381835d",
   "metadata": {
    "editable": true,
    "slideshow": {
     "slide_type": ""
    },
    "tags": [
     "task4"
    ]
   },
   "outputs": [],
   "source": [
    "# DEFINE YOUR REGEX HERE\n",
    "\n",
    "decimal_hour_pattern_task4 = ..."
   ]
  },
  {
   "cell_type": "markdown",
   "id": "24dcaab4-3321-4ce6-a32d-93bfb480f9fd",
   "metadata": {
    "editable": true,
    "slideshow": {
     "slide_type": ""
    },
    "tags": []
   },
   "source": [
    "### Test your regular expression here\n",
    "\n",
    "Before submitting, test your regular expression in the cell below. "
   ]
  },
  {
   "cell_type": "code",
   "execution_count": null,
   "id": "f8accc72-dd0c-4339-861e-3583e18542be",
   "metadata": {
    "editable": true,
    "slideshow": {
     "slide_type": ""
    },
    "tags": []
   },
   "outputs": [],
   "source": [
    "# You can use this cell to test your regex\n",
    "\n",
    "for text in [' 0.5 hour',' 1.5-2.5 hours','as many as 5.6-6.5 hours a night',' 5.1 hours']:\n",
    "    print(decimal_hour_pattern_task4.findall(text))"
   ]
  },
  {
   "cell_type": "markdown",
   "id": "dddb75ad-07f9-49bd-bc19-fe4f565cf35f",
   "metadata": {
    "editable": true,
    "slideshow": {
     "slide_type": ""
    },
    "tags": []
   },
   "source": [
    "### Submit your code here\n",
    "\n",
    "When you are ready, execute the cell below to submit and test your code on a larger set of text than in `recipe_text` above. \n",
    "\n",
    "You will receive feedback about your code. You can improve your code and submit as many times as necessary. "
   ]
  },
  {
   "cell_type": "code",
   "execution_count": null,
   "id": "5b5da515-1854-4c01-b9c2-de7ad291f9f1",
   "metadata": {
    "editable": true,
    "slideshow": {
     "slide_type": ""
    },
    "tags": [
     "task4"
    ]
   },
   "outputs": [],
   "source": [
    "# DO NOT MODIFY THIS CODE \n",
    "\n",
    "# Find all matches within 'recipe_text' for the regular expression you created above\n",
    "def task4():\n",
    "    return decimal_hour_pattern_task4.findall(recipe_text)"
   ]
  },
  {
   "cell_type": "code",
   "execution_count": null,
   "id": "e871798b-fac1-4abf-ad80-41a6da25b8bd",
   "metadata": {
    "editable": true,
    "slideshow": {
     "slide_type": ""
    },
    "tags": []
   },
   "outputs": [],
   "source": [
    "# DO NOT MODIFY THIS CODE \n",
    "\n",
    "import utils\n",
    "utils.grade('task4')"
   ]
  }
 ],
 "metadata": {
  "kernelspec": {
   "display_name": "Python 3 (ipykernel)",
   "language": "python",
   "name": "python3"
  },
  "language_info": {
   "codemirror_mode": {
    "name": "ipython",
    "version": 3
   },
   "file_extension": ".py",
   "mimetype": "text/x-python",
   "name": "python",
   "nbconvert_exporter": "python",
   "pygments_lexer": "ipython3",
   "version": "3.11.9"
  }
 },
 "nbformat": 4,
 "nbformat_minor": 5
}
