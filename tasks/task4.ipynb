{
 "cells": [
  {
   "cell_type": "code",
   "execution_count": null,
   "metadata": {
    "tags": [
     "task4"
    ]
   },
   "outputs": [],
   "source": [
    "# UPDATE task3() TO RETURN THE MATCHES IN RECIPE_TEXT FOR YOUR REGULAR EXPRESSION IN task1()\n",
    "\n",
    "def task4():\n",
    "    # DO NOT CHANGE THIS CODE\n",
    "    # regex = task3()\n",
    "\n",
    "    # YOUR CODE HERE \n",
    "    raise NotImplementedError\n",
    "\n",
    "\n",
    "    # complete this expression\n",
    "    # return integer_hour_pattern..."
   ]
  },
  {
   "cell_type": "code",
   "execution_count": null,
   "metadata": {},
   "outputs": [],
   "source": [
    "import utils\n",
    "utils.grade('task2')"
   ]
  }
 ],
 "metadata": {
  "language_info": {
   "name": "python"
  }
 },
 "nbformat": 4,
 "nbformat_minor": 2
}
